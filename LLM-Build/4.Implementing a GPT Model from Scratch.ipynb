{
 "cells": [
  {
   "cell_type": "markdown",
   "id": "27f59b3f",
   "metadata": {},
   "source": [
    "## Implementing a GPT Model from scratch"
   ]
  },
  {
   "cell_type": "markdown",
   "id": "0d552900",
   "metadata": {},
   "source": [
    "### Coding an LLM architecture"
   ]
  },
  {
   "cell_type": "markdown",
   "id": "1bcf5b7b",
   "metadata": {},
   "source": []
  }
 ],
 "metadata": {
  "kernelspec": {
   "display_name": "LLM-Projects",
   "language": "python",
   "name": "python3"
  },
  "language_info": {
   "codemirror_mode": {
    "name": "ipython",
    "version": 3
   },
   "file_extension": ".py",
   "mimetype": "text/x-python",
   "name": "python",
   "nbconvert_exporter": "python",
   "pygments_lexer": "ipython3",
   "version": "3.12.7"
  }
 },
 "nbformat": 4,
 "nbformat_minor": 5
}
