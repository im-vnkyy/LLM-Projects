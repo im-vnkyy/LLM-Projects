{
 "cells": [
  {
   "cell_type": "markdown",
   "id": "f1f189c0",
   "metadata": {},
   "source": [
    "## 1. Attending to different parts of the input with self-attention:\n",
    "### 1.1 A simple self-attention mechansim without trainable weights:"
   ]
  },
  {
   "cell_type": "code",
   "execution_count": 3,
   "id": "c09ec1ae",
   "metadata": {},
   "outputs": [],
   "source": [
    "import torch\n",
    "\n",
    "inputs = torch.tensor(\n",
    "    [[0.43, 0.15, 0.89], #your \n",
    "     [0.55, 0.87, 0.66], # journey \n",
    "     [0.57, 0.85, 0.64], #starts\n",
    "     [0.22, 0.58, 0.33], #with \n",
    "     [0.77, 0.25, 0.10], #one\n",
    "     [0.05, 0.80, 0.55]] #step\n",
    ")"
   ]
  },
  {
   "cell_type": "code",
   "execution_count": 5,
   "id": "e72fdcc4",
   "metadata": {},
   "outputs": [
    {
     "data": {
      "text/plain": [
       "tensor([0.5500, 0.8700, 0.6600])"
      ]
     },
     "execution_count": 5,
     "metadata": {},
     "output_type": "execute_result"
    }
   ],
   "source": [
    "input_query = inputs[1]\n",
    "input_query"
   ]
  },
  {
   "cell_type": "code",
   "execution_count": 6,
   "id": "df60a420",
   "metadata": {},
   "outputs": [
    {
     "data": {
      "text/plain": [
       "tensor([0.4300, 0.1500, 0.8900])"
      ]
     },
     "execution_count": 6,
     "metadata": {},
     "output_type": "execute_result"
    }
   ],
   "source": [
    "input_1 = inputs[0]\n",
    "input_1"
   ]
  },
  {
   "cell_type": "code",
   "execution_count": 7,
   "id": "d87aa2f1",
   "metadata": {},
   "outputs": [
    {
     "data": {
      "text/plain": [
       "0.9544"
      ]
     },
     "execution_count": 7,
     "metadata": {},
     "output_type": "execute_result"
    }
   ],
   "source": [
    "0.55*0.43 + 0.87*0.15 + 0.66*0.89"
   ]
  },
  {
   "cell_type": "code",
   "execution_count": 8,
   "id": "94ebb128",
   "metadata": {},
   "outputs": [
    {
     "data": {
      "text/plain": [
       "tensor(0.9544)"
      ]
     },
     "execution_count": 8,
     "metadata": {},
     "output_type": "execute_result"
    }
   ],
   "source": [
    "torch.dot(input_query, input_1)"
   ]
  },
  {
   "cell_type": "code",
   "execution_count": null,
   "id": "5544e2e5",
   "metadata": {},
   "outputs": [
    {
     "name": "stdout",
     "output_type": "stream",
     "text": [
      "tensor(0.2365)\n",
      "tensor(0.1305)\n",
      "tensor(0.5874)\n"
     ]
    }
   ],
   "source": [
    "for idx, ele in enumerate(inputs[0]):\n",
    "    print(inputs[0][idx] * input_query[idx])\n"
   ]
  },
  {
   "cell_type": "code",
   "execution_count": 11,
   "id": "79858c24",
   "metadata": {},
   "outputs": [
    {
     "data": {
      "text/plain": [
       "tensor(1.4754)"
      ]
     },
     "execution_count": 11,
     "metadata": {},
     "output_type": "execute_result"
    }
   ],
   "source": [
    "i = 2\n",
    "\n",
    "res = torch.dot(inputs[i], input_query)\n",
    "res\n"
   ]
  },
  {
   "cell_type": "code",
   "execution_count": 22,
   "id": "4d5ecaa1",
   "metadata": {},
   "outputs": [
    {
     "name": "stdout",
     "output_type": "stream",
     "text": [
      "tensor([0.9544, 1.4950, 1.4754, 0.8434, 0.7070, 1.0865])\n"
     ]
    }
   ],
   "source": [
    "query = inputs[1] # 2nd input token is query\n",
    "\n",
    "attn_scores_2 = torch.empty(inputs.shape[0])\n",
    "for i, x_i in enumerate(inputs):\n",
    "    attn_scores_2[i] = torch.dot(x_i, input_query)\n",
    "\n",
    "print(attn_scores_2)"
   ]
  },
  {
   "cell_type": "code",
   "execution_count": 13,
   "id": "51387966",
   "metadata": {},
   "outputs": [
    {
     "data": {
      "text/plain": [
       "tensor([0.1455, 0.2278, 0.2249, 0.1285, 0.1077, 0.1656])"
      ]
     },
     "execution_count": 13,
     "metadata": {},
     "output_type": "execute_result"
    }
   ],
   "source": [
    "attn_weights_2_tmp = attn_scores_2/attn_scores_2.sum()\n",
    "attn_weights_2_tmp"
   ]
  },
  {
   "cell_type": "code",
   "execution_count": 14,
   "id": "4ea6fd3a",
   "metadata": {},
   "outputs": [
    {
     "data": {
      "text/plain": [
       "tensor(1.0000)"
      ]
     },
     "execution_count": 14,
     "metadata": {},
     "output_type": "execute_result"
    }
   ],
   "source": [
    "attn_weights_2_tmp.sum()"
   ]
  },
  {
   "cell_type": "code",
   "execution_count": 15,
   "id": "d3942eab",
   "metadata": {},
   "outputs": [
    {
     "data": {
      "text/plain": [
       "tensor([0.1385, 0.2379, 0.2333, 0.1240, 0.1082, 0.1581])"
      ]
     },
     "execution_count": 15,
     "metadata": {},
     "output_type": "execute_result"
    }
   ],
   "source": [
    "def softmax_naive(x):\n",
    "    return torch.exp(x) /torch.exp(x).sum(dim = 0)\n",
    "\n",
    "softmax_naive(attn_scores_2)"
   ]
  },
  {
   "cell_type": "code",
   "execution_count": 16,
   "id": "af6ad302",
   "metadata": {},
   "outputs": [
    {
     "data": {
      "text/plain": [
       "tensor([0.1385, 0.2379, 0.2333, 0.1240, 0.1082, 0.1581])"
      ]
     },
     "execution_count": 16,
     "metadata": {},
     "output_type": "execute_result"
    }
   ],
   "source": [
    "torch.softmax(attn_scores_2, dim = 0)"
   ]
  },
  {
   "cell_type": "code",
   "execution_count": 21,
   "id": "7f40a1d5",
   "metadata": {},
   "outputs": [
    {
     "name": "stdout",
     "output_type": "stream",
     "text": [
      "0.9544000625610352 -----> tensor([0.4300, 0.1500, 0.8900])\n",
      "1.4950001239776611 -----> tensor([0.5500, 0.8700, 0.6600])\n",
      "1.4754000902175903 -----> tensor([0.5700, 0.8500, 0.6400])\n",
      "0.8434000015258789 -----> tensor([0.2200, 0.5800, 0.3300])\n",
      "0.7070000171661377 -----> tensor([0.7700, 0.2500, 0.1000])\n",
      "1.0865000486373901 -----> tensor([0.0500, 0.8000, 0.5500])\n",
      "tensor([2.8579, 4.2330, 3.7270])\n"
     ]
    }
   ],
   "source": [
    "query = inputs[1] # 2nd input token is query\n",
    "\n",
    "context_vec_2 = torch.zeros(query.shape)\n",
    "for i, x_i in enumerate(inputs):\n",
    "    print(f\"{attn_scores_2[i]} -----> {inputs[i]}\")\n",
    "    context_vec_2 += attn_scores_2[i]*inputs[i]\n",
    "\n",
    "\n",
    "print(context_vec_2)"
   ]
  },
  {
   "cell_type": "markdown",
   "id": "799795cf",
   "metadata": {},
   "source": [
    "### 1.2 A simple self attention mechanism without trainable weights:"
   ]
  },
  {
   "cell_type": "code",
   "execution_count": 24,
   "id": "56a237da",
   "metadata": {},
   "outputs": [
    {
     "name": "stdout",
     "output_type": "stream",
     "text": [
      "tensor([[0.9995, 0.9544, 0.9422, 0.4753, 0.4576, 0.6310],\n",
      "        [0.9544, 1.4950, 1.4754, 0.8434, 0.7070, 1.0865],\n",
      "        [0.9422, 1.4754, 1.4570, 0.8296, 0.7154, 1.0605],\n",
      "        [0.4753, 0.8434, 0.8296, 0.4937, 0.3474, 0.6565],\n",
      "        [0.4576, 0.7070, 0.7154, 0.3474, 0.6654, 0.2935],\n",
      "        [0.6310, 1.0865, 1.0605, 0.6565, 0.2935, 0.9450]])\n"
     ]
    }
   ],
   "source": [
    "attn_scores = torch.empty(6, 6)\n",
    "\n",
    "for i, x_i in enumerate(inputs):\n",
    "    for j, x_j in enumerate(inputs):\n",
    "        attn_scores[i, j] = torch.dot(x_i, x_j)\n",
    "\n",
    "print(attn_scores)"
   ]
  },
  {
   "cell_type": "code",
   "execution_count": 25,
   "id": "7e3d4be1",
   "metadata": {},
   "outputs": [
    {
     "data": {
      "text/plain": [
       "tensor([[0.9995, 0.9544, 0.9422, 0.4753, 0.4576, 0.6310],\n",
       "        [0.9544, 1.4950, 1.4754, 0.8434, 0.7070, 1.0865],\n",
       "        [0.9422, 1.4754, 1.4570, 0.8296, 0.7154, 1.0605],\n",
       "        [0.4753, 0.8434, 0.8296, 0.4937, 0.3474, 0.6565],\n",
       "        [0.4576, 0.7070, 0.7154, 0.3474, 0.6654, 0.2935],\n",
       "        [0.6310, 1.0865, 1.0605, 0.6565, 0.2935, 0.9450]])"
      ]
     },
     "execution_count": 25,
     "metadata": {},
     "output_type": "execute_result"
    }
   ],
   "source": [
    "attn_scores = inputs @ inputs.T\n",
    "attn_scores"
   ]
  },
  {
   "cell_type": "code",
   "execution_count": 26,
   "id": "bcfe53a6",
   "metadata": {},
   "outputs": [],
   "source": [
    "attn_weights = torch.softmax(attn_scores, dim = 1)"
   ]
  },
  {
   "cell_type": "code",
   "execution_count": 27,
   "id": "4b6de9a8",
   "metadata": {},
   "outputs": [
    {
     "data": {
      "text/plain": [
       "tensor([[0.2098, 0.2006, 0.1981, 0.1242, 0.1220, 0.1452],\n",
       "        [0.1385, 0.2379, 0.2333, 0.1240, 0.1082, 0.1581],\n",
       "        [0.1390, 0.2369, 0.2326, 0.1242, 0.1108, 0.1565],\n",
       "        [0.1435, 0.2074, 0.2046, 0.1462, 0.1263, 0.1720],\n",
       "        [0.1526, 0.1958, 0.1975, 0.1367, 0.1879, 0.1295],\n",
       "        [0.1385, 0.2184, 0.2128, 0.1420, 0.0988, 0.1896]])"
      ]
     },
     "execution_count": 27,
     "metadata": {},
     "output_type": "execute_result"
    }
   ],
   "source": [
    "attn_weights"
   ]
  },
  {
   "cell_type": "code",
   "execution_count": 28,
   "id": "7a9dad94",
   "metadata": {},
   "outputs": [
    {
     "name": "stdout",
     "output_type": "stream",
     "text": [
      "tensor([[0.2098, 0.2006, 0.1981, 0.1242, 0.1220, 0.1452],\n",
      "        [0.1385, 0.2379, 0.2333, 0.1240, 0.1082, 0.1581],\n",
      "        [0.1390, 0.2369, 0.2326, 0.1242, 0.1108, 0.1565],\n",
      "        [0.1435, 0.2074, 0.2046, 0.1462, 0.1263, 0.1720],\n",
      "        [0.1526, 0.1958, 0.1975, 0.1367, 0.1879, 0.1295],\n",
      "        [0.1385, 0.2184, 0.2128, 0.1420, 0.0988, 0.1896]])\n"
     ]
    }
   ],
   "source": [
    "attn_scores = inputs @ inputs.T\n",
    "attn_weights = torch.softmax(attn_scores, dim = 1)\n",
    "print(attn_weights)"
   ]
  },
  {
   "cell_type": "code",
   "execution_count": 29,
   "id": "ab0424fc",
   "metadata": {},
   "outputs": [
    {
     "data": {
      "text/plain": [
       "tensor([[0.4421, 0.5931, 0.5790],\n",
       "        [0.4419, 0.6515, 0.5683],\n",
       "        [0.4431, 0.6496, 0.5671],\n",
       "        [0.4304, 0.6298, 0.5510],\n",
       "        [0.4671, 0.5910, 0.5266],\n",
       "        [0.4177, 0.6503, 0.5645]])"
      ]
     },
     "execution_count": 29,
     "metadata": {},
     "output_type": "execute_result"
    }
   ],
   "source": [
    "all_context_vecs = attn_weights @ inputs\n",
    "\n",
    "all_context_vecs"
   ]
  },
  {
   "cell_type": "markdown",
   "id": "7cfcbbec",
   "metadata": {},
   "source": [
    "## 2.Implementing self-attention with trainable weights:\n",
    "### 2.1 Computing the attention weights step by step:\n",
    "\n"
   ]
  },
  {
   "cell_type": "code",
   "execution_count": 37,
   "id": "6d91a7d1",
   "metadata": {},
   "outputs": [],
   "source": [
    "x2 = inputs[1]\n",
    "d_in = inputs.shape[1]\n",
    "d_out = 2"
   ]
  },
  {
   "cell_type": "code",
   "execution_count": 41,
   "id": "29d40863",
   "metadata": {},
   "outputs": [
    {
     "data": {
      "text/plain": [
       "tensor([0.5500, 0.8700, 0.6600])"
      ]
     },
     "execution_count": 41,
     "metadata": {},
     "output_type": "execute_result"
    }
   ],
   "source": [
    "x2"
   ]
  },
  {
   "cell_type": "code",
   "execution_count": 38,
   "id": "baa7f11a",
   "metadata": {},
   "outputs": [],
   "source": [
    "torch.manual_seed(123)\n",
    "\n",
    "W_query = torch.nn.Parameter(torch.rand(d_in, d_out))\n",
    "W_key = torch.nn.Parameter(torch.rand(d_in, d_out))\n",
    "W_value = torch.nn.Parameter(torch.rand(d_in, d_out))"
   ]
  },
  {
   "cell_type": "code",
   "execution_count": 40,
   "id": "fcd47a9c",
   "metadata": {},
   "outputs": [
    {
     "data": {
      "text/plain": [
       "tensor([0.4306, 1.4551], grad_fn=<SqueezeBackward4>)"
      ]
     },
     "execution_count": 40,
     "metadata": {},
     "output_type": "execute_result"
    }
   ],
   "source": [
    "query_2 = x2 @ W_query\n",
    "query_2\n"
   ]
  },
  {
   "cell_type": "code",
   "execution_count": null,
   "id": "f4d96cd6",
   "metadata": {},
   "outputs": [
    {
     "data": {
      "text/plain": [
       "torch.Size([6, 2])"
      ]
     },
     "execution_count": 44,
     "metadata": {},
     "output_type": "execute_result"
    }
   ],
   "source": [
    "keys = inputs @ W_key\n",
    "value = inputs @ W_value\n",
    "keys.shape"
   ]
  },
  {
   "cell_type": "code",
   "execution_count": 45,
   "id": "3f2e4719",
   "metadata": {},
   "outputs": [
    {
     "data": {
      "text/plain": [
       "tensor([[0.3669, 0.7646],\n",
       "        [0.4433, 1.1419],\n",
       "        [0.4361, 1.1156],\n",
       "        [0.2408, 0.6706],\n",
       "        [0.1827, 0.3292],\n",
       "        [0.3275, 0.9642]], grad_fn=<MmBackward0>)"
      ]
     },
     "execution_count": 45,
     "metadata": {},
     "output_type": "execute_result"
    }
   ],
   "source": [
    "keys"
   ]
  },
  {
   "cell_type": "code",
   "execution_count": 46,
   "id": "d062ab73",
   "metadata": {},
   "outputs": [
    {
     "data": {
      "text/plain": [
       "tensor(1.8524, grad_fn=<DotBackward0>)"
      ]
     },
     "execution_count": 46,
     "metadata": {},
     "output_type": "execute_result"
    }
   ],
   "source": [
    "keys_2 = keys[1]\n",
    "\n",
    "attn_score_22 = torch.dot(query_2, keys_2)\n",
    "attn_score_22"
   ]
  },
  {
   "cell_type": "code",
   "execution_count": 47,
   "id": "c2c9e7a4",
   "metadata": {},
   "outputs": [],
   "source": [
    "attn_score_2 = query_2 @keys.T"
   ]
  },
  {
   "cell_type": "code",
   "execution_count": 48,
   "id": "bbc82543",
   "metadata": {},
   "outputs": [
    {
     "data": {
      "text/plain": [
       "tensor([1.2705, 1.8524, 1.8111, 1.0795, 0.5577, 1.5440],\n",
       "       grad_fn=<SqueezeBackward4>)"
      ]
     },
     "execution_count": 48,
     "metadata": {},
     "output_type": "execute_result"
    }
   ],
   "source": [
    "attn_score_2"
   ]
  },
  {
   "cell_type": "code",
   "execution_count": 51,
   "id": "117c43a1",
   "metadata": {},
   "outputs": [
    {
     "data": {
      "text/plain": [
       "tensor([0.1500, 0.2264, 0.2199, 0.1311, 0.0906, 0.1820],\n",
       "       grad_fn=<SoftmaxBackward0>)"
      ]
     },
     "execution_count": 51,
     "metadata": {},
     "output_type": "execute_result"
    }
   ],
   "source": [
    "d_k = keys.shape[1]\n",
    "\n",
    "attn_weights_2 = torch.softmax(attn_score_2/d_k ** 0.5, dim = -1)\n",
    "attn_weights_2"
   ]
  },
  {
   "cell_type": "markdown",
   "id": "f736616d",
   "metadata": {},
   "source": [
    "### 2. Implementing a compact self attention Class:"
   ]
  },
  {
   "cell_type": "code",
   "execution_count": 59,
   "id": "e818af0a",
   "metadata": {},
   "outputs": [
    {
     "data": {
      "text/plain": [
       "Parameter containing:\n",
       "tensor([0.1537, 0.1667, 0.2732], requires_grad=True)"
      ]
     },
     "execution_count": 59,
     "metadata": {},
     "output_type": "execute_result"
    }
   ],
   "source": [
    "m = torch.nn.Linear(2, 3)\n",
    "m.bias"
   ]
  },
  {
   "cell_type": "code",
   "execution_count": 61,
   "id": "234d4105",
   "metadata": {},
   "outputs": [
    {
     "data": {
      "text/plain": [
       "tensor([[-0.5337, -0.1051],\n",
       "        [-0.5323, -0.1080],\n",
       "        [-0.5323, -0.1079],\n",
       "        [-0.5297, -0.1076],\n",
       "        [-0.5311, -0.1066],\n",
       "        [-0.5299, -0.1081]], grad_fn=<MmBackward0>)"
      ]
     },
     "execution_count": 61,
     "metadata": {},
     "output_type": "execute_result"
    }
   ],
   "source": [
    "import torch.nn as nn\n",
    "\n",
    "class SelfAttention_v1(nn.Module):\n",
    "\n",
    "    def __init__(self, d_in, d_out, qkv_bias = False):\n",
    "        super().__init__()\n",
    "        self.W_query = torch.nn.Linear(d_in, d_out, bias = qkv_bias )\n",
    "        self.W_key = torch.nn.Linear(d_in, d_out, bias = qkv_bias)\n",
    "        self.W_value = torch.nn.Linear(d_in, d_out, bias = qkv_bias)\n",
    "\n",
    "    def forward(self, x):\n",
    "        queries = self.W_query(inputs)\n",
    "        keys = self.W_key(inputs)\n",
    "        values = self.W_value(inputs)\n",
    "\n",
    "        attn_scores =  queries @keys.T\n",
    "        attn_weights = torch.softmax(attn_scores/d_k ** 0.5 , dim = 1)\n",
    "        context_vec = attn_weights @ values\n",
    "        return context_vec\n",
    "    \n",
    "torch.manual_seed(123)\n",
    "sa_v1 = SelfAttention_v1(d_in, d_out)\n",
    "\n",
    "sa_v1(inputs)\n",
    "    "
   ]
  },
  {
   "cell_type": "markdown",
   "id": "ef6ed687",
   "metadata": {},
   "source": [
    "## Hiding future words with causal attention \n",
    "#### 3. Applying a causal attention mask "
   ]
  },
  {
   "cell_type": "markdown",
   "id": "ab6f5f59",
   "metadata": {},
   "source": []
  },
  {
   "cell_type": "code",
   "execution_count": 62,
   "id": "83a56679",
   "metadata": {},
   "outputs": [],
   "source": [
    "queries = sa_v1.W_query(inputs)\n",
    "keys = sa_v1.W_key(inputs)\n",
    "values = sa_v1.W_value(inputs)\n",
    "\n",
    "attn_scores =  queries @keys.T\n",
    "attn_weights = torch.softmax(attn_scores/d_k ** 0.5 , dim = 1)\n",
    "context_vec = attn_weights @ values"
   ]
  },
  {
   "cell_type": "code",
   "execution_count": 63,
   "id": "99746d24",
   "metadata": {},
   "outputs": [
    {
     "data": {
      "text/plain": [
       "tensor([[0.1717, 0.1762, 0.1761, 0.1555, 0.1627, 0.1579],\n",
       "        [0.1636, 0.1749, 0.1746, 0.1612, 0.1605, 0.1652],\n",
       "        [0.1637, 0.1749, 0.1746, 0.1611, 0.1606, 0.1651],\n",
       "        [0.1636, 0.1704, 0.1702, 0.1652, 0.1632, 0.1674],\n",
       "        [0.1667, 0.1722, 0.1721, 0.1618, 0.1633, 0.1639],\n",
       "        [0.1624, 0.1709, 0.1706, 0.1654, 0.1625, 0.1682]],\n",
       "       grad_fn=<SoftmaxBackward0>)"
      ]
     },
     "execution_count": 63,
     "metadata": {},
     "output_type": "execute_result"
    }
   ],
   "source": [
    "attn_weights"
   ]
  },
  {
   "cell_type": "code",
   "execution_count": 65,
   "id": "03f8ef84",
   "metadata": {},
   "outputs": [
    {
     "name": "stdout",
     "output_type": "stream",
     "text": [
      "tensor([[1., 0., 0., 0., 0., 0.],\n",
      "        [1., 1., 0., 0., 0., 0.],\n",
      "        [1., 1., 1., 0., 0., 0.],\n",
      "        [1., 1., 1., 1., 0., 0.],\n",
      "        [1., 1., 1., 1., 1., 0.],\n",
      "        [1., 1., 1., 1., 1., 1.]])\n"
     ]
    }
   ],
   "source": [
    "context_length = attn_scores.shape[0]\n",
    "make_simple = torch.tril(torch.ones(context_length, context_length))\n",
    "print(make_simple)"
   ]
  },
  {
   "cell_type": "code",
   "execution_count": 67,
   "id": "ff9d9856",
   "metadata": {},
   "outputs": [
    {
     "data": {
      "text/plain": [
       "tensor([[0.1717, 0.0000, 0.0000, 0.0000, 0.0000, 0.0000],\n",
       "        [0.1636, 0.1749, 0.0000, 0.0000, 0.0000, 0.0000],\n",
       "        [0.1637, 0.1749, 0.1746, 0.0000, 0.0000, 0.0000],\n",
       "        [0.1636, 0.1704, 0.1702, 0.1652, 0.0000, 0.0000],\n",
       "        [0.1667, 0.1722, 0.1721, 0.1618, 0.1633, 0.0000],\n",
       "        [0.1624, 0.1709, 0.1706, 0.1654, 0.1625, 0.1682]],\n",
       "       grad_fn=<MulBackward0>)"
      ]
     },
     "execution_count": 67,
     "metadata": {},
     "output_type": "execute_result"
    }
   ],
   "source": [
    "masked_simple = attn_weights * make_simple\n",
    "masked_simple"
   ]
  },
  {
   "cell_type": "code",
   "execution_count": null,
   "id": "92836978",
   "metadata": {},
   "outputs": [
    {
     "name": "stdout",
     "output_type": "stream",
     "text": [
      "tensor([[1.0000, 0.0000, 0.0000, 0.0000, 0.0000, 0.0000],\n",
      "        [0.4833, 0.5167, 0.0000, 0.0000, 0.0000, 0.0000],\n",
      "        [0.3190, 0.3408, 0.3402, 0.0000, 0.0000, 0.0000],\n",
      "        [0.2445, 0.2545, 0.2542, 0.2468, 0.0000, 0.0000],\n",
      "        [0.1994, 0.2060, 0.2058, 0.1935, 0.1953, 0.0000],\n",
      "        [0.1624, 0.1709, 0.1706, 0.1654, 0.1625, 0.1682]],\n",
      "       grad_fn=<DivBackward0>)\n"
     ]
    }
   ],
   "source": [
    "row_sums = masked_simple.sum(dim = 1, keepdim = True)\n",
    "masked_simple_norm = masked_simple /row_sums\n",
    "print(masked_simple_norm)"
   ]
  },
  {
   "cell_type": "code",
   "execution_count": 69,
   "id": "a430a196",
   "metadata": {},
   "outputs": [
    {
     "name": "stdout",
     "output_type": "stream",
     "text": [
      "tensor([[0.3111,   -inf,   -inf,   -inf,   -inf,   -inf],\n",
      "        [0.1655, 0.2602,   -inf,   -inf,   -inf,   -inf],\n",
      "        [0.1667, 0.2602, 0.2577,   -inf,   -inf,   -inf],\n",
      "        [0.0510, 0.1080, 0.1064, 0.0643,   -inf,   -inf],\n",
      "        [0.1415, 0.1875, 0.1863, 0.0987, 0.1121,   -inf],\n",
      "        [0.0476, 0.1192, 0.1171, 0.0731, 0.0477, 0.0966]],\n",
      "       grad_fn=<MaskedFillBackward0>)\n"
     ]
    }
   ],
   "source": [
    "mask = torch.triu(torch.ones(context_length, context_length), diagonal = 1)\n",
    "masked = attn_scores.masked_fill(mask.bool(), -torch.inf)\n",
    "print(masked)"
   ]
  },
  {
   "cell_type": "code",
   "execution_count": 70,
   "id": "0d53bcac",
   "metadata": {},
   "outputs": [
    {
     "data": {
      "text/plain": [
       "tensor([[1.0000, 0.0000, 0.0000, 0.0000, 0.0000, 0.0000],\n",
       "        [0.4833, 0.5167, 0.0000, 0.0000, 0.0000, 0.0000],\n",
       "        [0.3190, 0.3408, 0.3402, 0.0000, 0.0000, 0.0000],\n",
       "        [0.2445, 0.2545, 0.2542, 0.2468, 0.0000, 0.0000],\n",
       "        [0.1994, 0.2060, 0.2058, 0.1935, 0.1953, 0.0000],\n",
       "        [0.1624, 0.1709, 0.1706, 0.1654, 0.1625, 0.1682]],\n",
       "       grad_fn=<SoftmaxBackward0>)"
      ]
     },
     "execution_count": 70,
     "metadata": {},
     "output_type": "execute_result"
    }
   ],
   "source": [
    "attn_weights = torch.softmax(masked/ d_k ** 0.5, dim = 1)\n",
    "attn_weights"
   ]
  },
  {
   "cell_type": "markdown",
   "id": "42148a56",
   "metadata": {},
   "source": [
    "### 4. Masking additonal atttention weights with dropout:"
   ]
  },
  {
   "cell_type": "markdown",
   "id": "3e91cd36",
   "metadata": {},
   "source": []
  },
  {
   "cell_type": "code",
   "execution_count": 71,
   "id": "864e0d3c",
   "metadata": {},
   "outputs": [],
   "source": [
    "torch.manual_seed(123)\n",
    "\n",
    "layer = torch.nn.Dropout(0.5)\n"
   ]
  },
  {
   "cell_type": "code",
   "execution_count": 73,
   "id": "3dc7c247",
   "metadata": {},
   "outputs": [
    {
     "data": {
      "text/plain": [
       "tensor([[1., 1., 1., 1., 1., 1.],\n",
       "        [1., 1., 1., 1., 1., 1.],\n",
       "        [1., 1., 1., 1., 1., 1.],\n",
       "        [1., 1., 1., 1., 1., 1.],\n",
       "        [1., 1., 1., 1., 1., 1.],\n",
       "        [1., 1., 1., 1., 1., 1.]])"
      ]
     },
     "execution_count": 73,
     "metadata": {},
     "output_type": "execute_result"
    }
   ],
   "source": [
    "example = torch.ones(6, 6)\n",
    "example"
   ]
  },
  {
   "cell_type": "code",
   "execution_count": 74,
   "id": "5cb15f69",
   "metadata": {},
   "outputs": [
    {
     "data": {
      "text/plain": [
       "tensor([[2., 2., 0., 2., 2., 0.],\n",
       "        [0., 0., 0., 2., 0., 2.],\n",
       "        [2., 2., 2., 2., 0., 2.],\n",
       "        [0., 2., 2., 0., 0., 2.],\n",
       "        [0., 2., 0., 2., 0., 2.],\n",
       "        [0., 2., 2., 2., 2., 0.]])"
      ]
     },
     "execution_count": 74,
     "metadata": {},
     "output_type": "execute_result"
    }
   ],
   "source": [
    "layer(example)"
   ]
  },
  {
   "cell_type": "code",
   "execution_count": null,
   "id": "d9d8436c",
   "metadata": {},
   "outputs": [
    {
     "data": {
      "text/plain": [
       "2.0"
      ]
     },
     "execution_count": 75,
     "metadata": {},
     "output_type": "execute_result"
    }
   ],
   "source": [
    "dropout_rate = 0.5\n",
    "1 / (1 - dropout_rate)"
   ]
  },
  {
   "cell_type": "code",
   "execution_count": 76,
   "id": "55036dfc",
   "metadata": {},
   "outputs": [
    {
     "data": {
      "text/plain": [
       "tensor([[2.0000, 0.0000, 0.0000, 0.0000, 0.0000, 0.0000],\n",
       "        [0.0000, 0.0000, 0.0000, 0.0000, 0.0000, 0.0000],\n",
       "        [0.0000, 0.6816, 0.6804, 0.0000, 0.0000, 0.0000],\n",
       "        [0.0000, 0.0000, 0.5085, 0.4936, 0.0000, 0.0000],\n",
       "        [0.0000, 0.0000, 0.0000, 0.0000, 0.3906, 0.0000],\n",
       "        [0.3249, 0.3418, 0.0000, 0.3308, 0.3249, 0.3363]],\n",
       "       grad_fn=<MulBackward0>)"
      ]
     },
     "execution_count": 76,
     "metadata": {},
     "output_type": "execute_result"
    }
   ],
   "source": [
    "layer(attn_weights)"
   ]
  },
  {
   "cell_type": "markdown",
   "id": "857ff168",
   "metadata": {},
   "source": [
    "### 5. Implemention a compact causal self attention class:"
   ]
  },
  {
   "cell_type": "code",
   "execution_count": 78,
   "id": "9c20a6e2",
   "metadata": {},
   "outputs": [
    {
     "data": {
      "text/plain": [
       "torch.Size([2, 6, 3])"
      ]
     },
     "execution_count": 78,
     "metadata": {},
     "output_type": "execute_result"
    }
   ],
   "source": [
    "batch = torch.stack((inputs, inputs), dim = 0)\n",
    "batch.shape\n"
   ]
  },
  {
   "cell_type": "code",
   "execution_count": 82,
   "id": "1c7b0291",
   "metadata": {},
   "outputs": [
    {
     "data": {
      "text/plain": [
       "tensor([[[-0.4519,  0.2216],\n",
       "         [-0.5874,  0.0058],\n",
       "         [-0.6300, -0.0632],\n",
       "         [-0.5675, -0.0843],\n",
       "         [-0.5526, -0.0981],\n",
       "         [-0.5299, -0.1081]],\n",
       "\n",
       "        [[-0.4519,  0.2216],\n",
       "         [-0.5874,  0.0058],\n",
       "         [-0.6300, -0.0632],\n",
       "         [-0.5675, -0.0843],\n",
       "         [-0.5526, -0.0981],\n",
       "         [-0.5299, -0.1081]]], grad_fn=<UnsafeViewBackward0>)"
      ]
     },
     "execution_count": 82,
     "metadata": {},
     "output_type": "execute_result"
    }
   ],
   "source": [
    "import torch.nn as nn\n",
    "\n",
    "class causalAttention(nn.Module):\n",
    "\n",
    "    def __init__(self, d_in, d_out, context_length, dropout,  qkv_bias = False):\n",
    "        super().__init__()\n",
    "        self.W_query = torch.nn.Linear(d_in, d_out, bias = qkv_bias )\n",
    "        self.W_key = torch.nn.Linear(d_in, d_out, bias = qkv_bias)\n",
    "        self.W_value = torch.nn.Linear(d_in, d_out, bias = qkv_bias)\n",
    "        self.dropout = torch.nn.Dropout(dropout)\n",
    "        self.register_buffer(\"mask\", torch.triu(torch.ones(context_length, context_length), diagonal = 1))\n",
    "    \n",
    "\n",
    "    def forward(self, x):\n",
    "        b, num_tokens, d_in = x.shape\n",
    "        queries = self.W_query(x)\n",
    "        keys = self.W_key(x)\n",
    "        values = self.W_value(x)\n",
    "\n",
    "        attn_scores =  queries @keys.transpose(1, 2)\n",
    "        attn_scores.masked_fill_(\n",
    "            self.mask.bool()[:num_tokens, :num_tokens],-torch.inf\n",
    "        )\n",
    "        attn_weights = torch.softmax(attn_scores/keys.shape[-1] ** 0.5 , dim = -1)\n",
    "        attn_weights = self.dropout(attn_weights)\n",
    "        context_vec = attn_weights @ values\n",
    "        return context_vec\n",
    "    \n",
    "torch.manual_seed(123)\n",
    "\n",
    "context_length = batch.shape[1]\n",
    "dropout = 0\n",
    "\n",
    "ca  = causalAttention(d_in, d_out, context_length, dropout)\n",
    "\n",
    "ca(batch)\n",
    "    "
   ]
  },
  {
   "cell_type": "markdown",
   "id": "a6fb5e10",
   "metadata": {},
   "source": [
    "## Stacking multiple single head attention to multi-head attention:\n",
    "### Stacking multiple single head attention layers"
   ]
  },
  {
   "cell_type": "code",
   "execution_count": 87,
   "id": "8de72805",
   "metadata": {},
   "outputs": [
    {
     "data": {
      "text/plain": [
       "tensor([[[-0.4519,  0.2216,  0.4772,  0.1063],\n",
       "         [-0.5874,  0.0058,  0.5891,  0.3257],\n",
       "         [-0.6300, -0.0632,  0.6202,  0.3860],\n",
       "         [-0.5675, -0.0843,  0.5478,  0.3589],\n",
       "         [-0.5526, -0.0981,  0.5321,  0.3428],\n",
       "         [-0.5299, -0.1081,  0.5077,  0.3493]],\n",
       "\n",
       "        [[-0.4519,  0.2216,  0.4772,  0.1063],\n",
       "         [-0.5874,  0.0058,  0.5891,  0.3257],\n",
       "         [-0.6300, -0.0632,  0.6202,  0.3860],\n",
       "         [-0.5675, -0.0843,  0.5478,  0.3589],\n",
       "         [-0.5526, -0.0981,  0.5321,  0.3428],\n",
       "         [-0.5299, -0.1081,  0.5077,  0.3493]]], grad_fn=<CatBackward0>)"
      ]
     },
     "execution_count": 87,
     "metadata": {},
     "output_type": "execute_result"
    }
   ],
   "source": [
    "class MultiHeadAttentionWrapper(nn.Module):\n",
    "    def __init__(self,d_in, d_out, context_length, dropout, num_heads = 2, qkv_bias = False):\n",
    "        super().__init__()\n",
    "        self.heads = nn.ModuleList(\n",
    "        [causalAttention(d_in=d_in, d_out=d_out, context_length=context_length, dropout= dropout,qkv_bias = qkv_bias) for _ in range(num_heads)]\n",
    "        )\n",
    "\n",
    "    def forward(self, x):\n",
    "        return torch.cat([head(x) for head in self.heads], dim = -1)\n",
    "    \n",
    "torch.manual_seed(123)\n",
    "context_length = batch.shape[1]\n",
    "d_in, d_out = batch.shape[-1], 2\n",
    "\n",
    "mha = MultiHeadAttentionWrapper(d_in, d_out, context_length, dropout = 0, num_heads = 2)\n",
    "mha(batch)"
   ]
  },
  {
   "cell_type": "markdown",
   "id": "b2fba7e8",
   "metadata": {},
   "source": [
    "### Implementing Multi-head attention with weight splits:"
   ]
  },
  {
   "cell_type": "code",
   "execution_count": 88,
   "id": "27a3784f",
   "metadata": {},
   "outputs": [],
   "source": [
    "import torch\n",
    "import torch.nn as nn\n",
    "\n",
    "class MultiHeadAttention(nn.Module):\n",
    "    def __init__(self, d_in, d_out, context_length, dropout, num_heads, qkv_bias=False):\n",
    "        super().__init__()\n",
    "        assert d_out % num_heads == 0, \"d_out must be divisible by num_heads\"\n",
    "        \n",
    "        self.d_out = d_out\n",
    "        self.num_heads = num_heads\n",
    "        self.head_dim = d_out // num_heads  # per-head dimension\n",
    "\n",
    "        self.W_query = nn.Linear(d_in, d_out, bias=qkv_bias)\n",
    "        self.W_key   = nn.Linear(d_in, d_out, bias=qkv_bias)\n",
    "        self.W_value = nn.Linear(d_in, d_out, bias=qkv_bias)\n",
    "\n",
    "        self.out_proj = nn.Linear(d_out, d_out)  # optional output projection\n",
    "        self.dropout = nn.Dropout(dropout)\n",
    "\n",
    "        # Register causal mask buffer (upper triangular with 1s above diagonal)\n",
    "        mask = torch.triu(torch.ones(context_length, context_length), diagonal=1)\n",
    "        self.register_buffer(\"mask\", mask)\n",
    "\n",
    "    def forward(self, x):\n",
    "        \"\"\"\n",
    "        x: Tensor of shape (batch_size, context_length, d_in)\n",
    "        Returns: Tensor of shape (batch_size, context_length, d_out)\n",
    "        \"\"\"\n",
    "        b, num_tokens, _ = x.shape\n",
    "\n",
    "        # Linear projections\n",
    "        Q = self.W_query(x)  # (b, num_tokens, d_out)\n",
    "        K = self.W_key(x)\n",
    "        V = self.W_value(x)\n",
    "\n",
    "        # Reshape to (b, num_heads, num_tokens, head_dim)\n",
    "        Q = Q.view(b, num_tokens, self.num_heads, self.head_dim).transpose(1, 2)\n",
    "        K = K.view(b, num_tokens, self.num_heads, self.head_dim).transpose(1, 2)\n",
    "        V = V.view(b, num_tokens, self.num_heads, self.head_dim).transpose(1, 2)\n",
    "\n",
    "        # Attention score: (b, num_heads, num_tokens, num_tokens)\n",
    "        attn_scores = Q @ K.transpose(-2, -1)  # dot product\n",
    "\n",
    "        # Apply causal mask\n",
    "        mask = self.mask[:num_tokens, :num_tokens].bool()\n",
    "        attn_scores = attn_scores.masked_fill(mask, float('-inf'))\n",
    "\n",
    "        # Scale and normalize\n",
    "        attn_weights = torch.softmax(attn_scores / (self.head_dim ** 0.5), dim=-1)\n",
    "        attn_weights = self.dropout(attn_weights)\n",
    "\n",
    "        # Attention output: (b, num_heads, num_tokens, head_dim)\n",
    "        context = attn_weights @ V  # weighted sum\n",
    "\n",
    "        # Reshape: (b, num_tokens, d_out)\n",
    "        context = context.transpose(1, 2).contiguous().view(b, num_tokens, self.d_out)\n",
    "\n",
    "        # Final linear projection\n",
    "        output = self.out_proj(context)\n",
    "        return output\n"
   ]
  },
  {
   "cell_type": "code",
   "execution_count": 89,
   "id": "781b810c",
   "metadata": {},
   "outputs": [
    {
     "name": "stdout",
     "output_type": "stream",
     "text": [
      "Output shape: torch.Size([4, 10, 4])\n"
     ]
    }
   ],
   "source": [
    "# Input simulation\n",
    "torch.manual_seed(123)\n",
    "batch = torch.randn(4, 10, 8)  # (batch_size, context_length, d_in)\n",
    "\n",
    "# Parameters\n",
    "d_in = batch.shape[-1]\n",
    "context_length = batch.shape[1]\n",
    "d_out = 4\n",
    "num_heads = 2\n",
    "\n",
    "# Create MHA module\n",
    "mha = MultiHeadAttention(d_in, d_out, context_length, dropout=0.0, num_heads=num_heads)\n",
    "\n",
    "# Run forward pass\n",
    "context_vecs = mha(batch)\n",
    "print(\"Output shape:\", context_vecs.shape)  # Should be: (4, 10, 4)\n"
   ]
  },
  {
   "cell_type": "code",
   "execution_count": 90,
   "id": "dea61c82",
   "metadata": {},
   "outputs": [
    {
     "data": {
      "text/plain": [
       "tensor([[[ 0.0520, -0.1580, -0.2882,  0.2626],\n",
       "         [ 0.1114, -0.1909, -0.2495,  0.2917],\n",
       "         [-0.0302, -0.0057, -0.1754,  0.0962],\n",
       "         [ 0.2112, -0.2462, -0.0191,  0.2065],\n",
       "         [ 0.0465,  0.0214, -0.3461,  0.1934],\n",
       "         [ 0.0962, -0.0992, -0.2344,  0.2062],\n",
       "         [ 0.0863,  0.0015, -0.1401,  0.0596],\n",
       "         [ 0.2030, -0.1201, -0.0737,  0.1552],\n",
       "         [ 0.1490, -0.1797, -0.0634,  0.1547],\n",
       "         [ 0.1457, -0.1254, -0.0835,  0.1345]],\n",
       "\n",
       "        [[ 0.5532, -0.5215,  0.3262,  0.3130],\n",
       "         [ 0.3071, -0.2854, -0.1590,  0.3776],\n",
       "         [-0.2297,  0.3996, -0.7485,  0.1439],\n",
       "         [ 0.0079,  0.0374, -0.4983,  0.2279],\n",
       "         [ 0.1145, -0.1690, -0.3022,  0.3187],\n",
       "         [ 0.2782, -0.2588, -0.0776,  0.2403],\n",
       "         [ 0.1554, -0.1560, -0.2491,  0.2946],\n",
       "         [ 0.2021, -0.1919, -0.1572,  0.2800],\n",
       "         [ 0.0692, -0.0603, -0.3228,  0.2750],\n",
       "         [ 0.0367, -0.0455, -0.3605,  0.2521]],\n",
       "\n",
       "        [[ 0.1159, -0.1009,  0.4081, -0.1870],\n",
       "         [-0.2095,  0.1349,  0.1221, -0.1699],\n",
       "         [-0.2347,  0.1586, -0.0392, -0.1127],\n",
       "         [-0.1083, -0.0630, -0.1329,  0.1077],\n",
       "         [-0.1279, -0.1393, -0.3283,  0.2977],\n",
       "         [ 0.0112, -0.1140, -0.0987,  0.1806],\n",
       "         [-0.0566, -0.0722, -0.1797,  0.1593],\n",
       "         [-0.0867, -0.1153, -0.2686,  0.2158],\n",
       "         [ 0.0295, -0.1070, -0.0942,  0.1446],\n",
       "         [-0.0221, -0.1268, -0.2051,  0.2058]],\n",
       "\n",
       "        [[ 0.3474, -0.6010,  0.4118,  0.2323],\n",
       "         [ 0.2577, -0.3640,  0.1110,  0.2133],\n",
       "         [-0.1758,  0.1171, -0.6451,  0.2298],\n",
       "         [ 0.0206, -0.0096, -0.3712,  0.1513],\n",
       "         [ 0.0617, -0.0632, -0.3203,  0.1837],\n",
       "         [ 0.0415, -0.0776, -0.3320,  0.2216],\n",
       "         [ 0.1373, -0.1879, -0.2366,  0.2632],\n",
       "         [-0.0193,  0.0569, -0.4527,  0.1805],\n",
       "         [ 0.0115, -0.0176, -0.4027,  0.2035],\n",
       "         [ 0.0879, -0.1795, -0.2852,  0.2733]]], grad_fn=<ViewBackward0>)"
      ]
     },
     "execution_count": 90,
     "metadata": {},
     "output_type": "execute_result"
    }
   ],
   "source": [
    "context_vecs"
   ]
  },
  {
   "cell_type": "code",
   "execution_count": null,
   "id": "212a43d6",
   "metadata": {},
   "outputs": [],
   "source": []
  }
 ],
 "metadata": {
  "kernelspec": {
   "display_name": "LLM-Projects",
   "language": "python",
   "name": "python3"
  },
  "language_info": {
   "codemirror_mode": {
    "name": "ipython",
    "version": 3
   },
   "file_extension": ".py",
   "mimetype": "text/x-python",
   "name": "python",
   "nbconvert_exporter": "python",
   "pygments_lexer": "ipython3",
   "version": "3.12.7"
  }
 },
 "nbformat": 4,
 "nbformat_minor": 5
}
