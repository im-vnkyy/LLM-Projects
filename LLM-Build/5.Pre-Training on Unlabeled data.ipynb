{
 "cells": [
  {
   "cell_type": "code",
   "execution_count": 1,
   "id": "a956e4d6",
   "metadata": {},
   "outputs": [],
   "source": [
    "from importlib.metadata import version"
   ]
  },
  {
   "cell_type": "code",
   "execution_count": 2,
   "id": "e554d5b0",
   "metadata": {},
   "outputs": [
    {
     "name": "stdout",
     "output_type": "stream",
     "text": [
      "matplotlib version: 3.10.6\n",
      "numpy version: 2.3.3\n",
      "pandas version: 2.3.3\n",
      "torch version: 2.8.0\n",
      "tensorflow version: 2.20.0\n",
      "tiktoken version: 0.11.0\n"
     ]
    }
   ],
   "source": [
    "pkgs = [\"matplotlib\", \"numpy\", \"pandas\", \"torch\", \"tensorflow\", \"tiktoken\"]\n",
    "\n",
    "\n",
    "for p in pkgs:\n",
    "    try:\n",
    "        print(f\"{p} version: {version(p)}\")\n",
    "    except Exception as e:\n",
    "        print(f\"Could not get version for package {p}: {e}\")"
   ]
  },
  {
   "cell_type": "code",
   "execution_count": null,
   "id": "f06a89da",
   "metadata": {},
   "outputs": [],
   "source": []
  }
 ],
 "metadata": {
  "kernelspec": {
   "display_name": "LLM-Projects",
   "language": "python",
   "name": "python3"
  },
  "language_info": {
   "codemirror_mode": {
    "name": "ipython",
    "version": 3
   },
   "file_extension": ".py",
   "mimetype": "text/x-python",
   "name": "python",
   "nbconvert_exporter": "python",
   "pygments_lexer": "ipython3",
   "version": "3.12.7"
  }
 },
 "nbformat": 4,
 "nbformat_minor": 5
}
