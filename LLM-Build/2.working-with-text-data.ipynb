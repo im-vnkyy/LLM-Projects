{
 "cells": [
  {
   "cell_type": "markdown",
   "id": "b843e2be",
   "metadata": {},
   "source": [
    "## 1. Tokenizing text:"
   ]
  },
  {
   "cell_type": "code",
   "execution_count": 7,
   "id": "36443920",
   "metadata": {},
   "outputs": [],
   "source": [
    "import os\n",
    "import urllib.request\n"
   ]
  },
  {
   "cell_type": "code",
   "execution_count": 8,
   "id": "d256e43e",
   "metadata": {},
   "outputs": [],
   "source": [
    "with open(\"the--verdict.txt\", \"r\", encoding = \"utf-8\") as f:\n",
    "    raw_text = f.read()"
   ]
  },
  {
   "cell_type": "code",
   "execution_count": 9,
   "id": "42e17aad",
   "metadata": {},
   "outputs": [
    {
     "data": {
      "text/plain": [
       "'I HAD always thought Jack Gisburn rather a cheap genius--though a good fellow enough--so it was no great surprise to me to hear that, in the height of his glory, he had dropped his painting, married a rich widow, and established himself in a villa on the Riviera. (Though I rather thought it would have been Rome or Florence.)\\n\\n\"The height of his glory\"--that was what the women called it. I can hear Mrs. Gideon Thwing--his last Chicago sitter--deploring his unaccountable abdication. \"Of course it\\'s going to send the value of my picture \\'way up; but I don\\'t think of that, Mr. Rickham--the loss to Arrt is all I think of.\" The word, on Mrs. Thwing\\'s lips, multiplied its _rs_ as though they were reflected in an endless vista of mirrors. And it was not only the Mrs. Thwings who mourned. Had not the exquisite Hermia Croft, at the last Grafton Gallery show, stopped me before Gisburn\\'s \"Moon-dancers\" to say, with tears in her eyes: \"We shall not look upon its like again\"?\\n\\nWell!--even through the prism of Hermia\\'s tears I felt able to face the fact with equanimity. Poor Jack Gisburn! The women had made him--it was fitting that they should mourn him. Among his own sex fewer regrets were heard, and in his own trade hardly a murmur. Professional jealousy? Perhaps. If it were, the honour of the craft was vindicated by little Claude Nutley, who, in all good faith, brought out in the Burlington a very handsome \"obituary\" on Jack--one of those showy articles stocked with random technicalities that I have heard (I won\\'t say by whom) compared to Gisburn\\'s painting. And so--his resolve being apparently irrevocable--the discussion gradually died out, and, as Mrs. Thwing had predicted, the price of \"Gisburns\" went up.\\n\\nIt was not till three years later that, in the course of a few weeks\\' idling on the Riviera, it suddenly occurred to me to wonder why Gisburn had given up his painting. On reflection, it really was a tempting problem. To accuse his wife would have been too easy--his fair sitters had been denied the solace of saying that Mrs. Gisburn had \"dragged him down.\" For Mrs. Gisburn--as such--had not existed till nearly a year after Jack\\'s resolve had been taken. It might be that he had married her--since he liked his ease--because he didn\\'t want to go on painting; but it would have been hard to prove that he had given up his painting because he had married her.\\n\\nOf course, if she had not dragged him down, she had equally, as Miss Croft contended, failed to \"lift him up\"--she had not led him back to the easel. To put the brush into his hand again--what a vocation for a wife! But Mrs. Gisburn appeared to have disdained it--and I felt it might be interesting to find out why.\\n\\nThe desultory life of the Riviera lends itself to such purely academic speculations; and having, on my way to Monte Carlo, caught a glimpse of Jack\\'s balustraded terraces between the pines, I had myself borne thither the next day.\\n\\nI found the couple at tea beneath their palm-trees; and Mrs. Gisburn\\'s welcome was so genial that, in the ensuing weeks, I claimed it frequently. It was not that my hostess was \"interesting\": on that point I could have given Miss Croft the fullest reassurance. It was just because she was _not_ interesting--if I may be pardoned the bull--that I found her so. For Jack, all his life, had been surrounded by interesting women: they had fostered his art, it had been reared in the hot-house of their adulation. And it was therefore instructive to note what effect the \"deadening atmosphere of mediocrity\" (I quote Miss Croft) was having on him.\\n\\nI have mentioned that Mrs. Gisburn was rich; and it was immediately perceptible that her husband was extracting from this circumstance a delicate but substantial satisfaction. It is, as a rule, the people who scorn money who get most out of it; and Jack\\'s elegant disdain of his wife\\'s big balance enabled him, with an appearance of perfect good-breeding, to transmute it into objects of art and luxury. To the latter, I must add, he remained relatively indifferent; but he was buying Renaissance bronzes and eighteenth-century pictures with a discrimination that bespoke the amplest resources.\\n\\n\"Money\\'s only excuse is to put beauty into circulation,\" was one of the axioms he laid down across the Sevres and silver of an exquisitely appointed luncheon-table, when, on a later day, I had again run over from Monte Carlo; and Mrs. Gisburn, beaming on him, added for my enlightenment: \"Jack is so morbidly sensitive to every form of beauty.\"\\n\\nPoor Jack! It had always been his fate to have women say such things of him: the fact should be set down in extenuation. What struck me now was that, for the first time, he resented the tone. I had seen him, so often, basking under similar tributes--was it the conjugal note that robbed them of their savour? No--for, oddly enough, it became apparent that he was fond of Mrs. Gisburn--fond enough not to see her absurdity. It was his own absurdity he seemed to be wincing under--his own attitude as an object for garlands and incense.\\n\\n\"My dear, since I\\'ve chucked painting people don\\'t say that stuff about me--they say it about Victor Grindle,\" was his only protest, as he rose from the table and strolled out onto the sunlit terrace.\\n\\nI glanced after him, struck by his last word. Victor Grindle was, in fact, becoming the man of the moment--as Jack himself, one might put it, had been the man of the hour. The younger artist was said to have formed himself at my friend\\'s feet, and I wondered if a tinge of jealousy underlay the latter\\'s mysterious abdication. But no--for it was not till after that event that the _rose Dubarry_ drawing-rooms had begun to display their \"Grindles.\"\\n\\nI turned to Mrs. Gisburn, who had lingered to give a lump of sugar to her spaniel in the dining-room.\\n\\n\"Why _has_ he chucked painting?\" I asked abruptly.\\n\\nShe raised her eyebrows with a hint of good-humoured surprise.\\n\\n\"Oh, he doesn\\'t _have_ to now, you know; and I want him to enjoy himself,\" she said quite simply.\\n\\nI looked about the spacious white-panelled room, with its _famille-verte_ vases repeating the tones of the pale damask curtains, and its eighteenth-century pastels in delicate faded frames.\\n\\n\"Has he chucked his pictures too? I haven\\'t seen a single one in the house.\"\\n\\nA slight shade of constraint crossed Mrs. Gisburn\\'s open countenance. \"It\\'s his ridiculous modesty, you know. He says they\\'re not fit to have about; he\\'s sent them all away except one--my portrait--and that I have to keep upstairs.\"\\n\\nHis ridiculous modesty--Jack\\'s modesty about his pictures? My curiosity was growing like the bean-stalk. I said persuasively to my hostess: \"I must really see your portrait, you know.\"\\n\\nShe glanced out almost timorously at the terrace where her husband, lounging in a hooded chair, had lit a cigar and drawn the Russian deerhound\\'s head between his knees.\\n\\n\"Well, come while he\\'s not looking,\" she said, with a laugh that tried to hide her nervousness; and I followed her between the marble Emperors of the hall, and up the wide stairs with terra-cotta nymphs poised among flowers at each landing.\\n\\nIn the dimmest corner of her boudoir, amid a profusion of delicate and distinguished objects, hung one of the familiar oval canvases, in the inevitable garlanded frame. The mere outline of the frame called up all Gisburn\\'s past!\\n\\nMrs. Gisburn drew back the window-curtains, moved aside a _jardiniere_ full of pink azaleas, pushed an arm-chair away, and said: \"If you stand here you can just manage to see it. I had it over the mantel-piece, but he wouldn\\'t let it stay.\"\\n\\nYes--I could just manage to see it--the first portrait of Jack\\'s I had ever had to strain my eyes over! Usually they had the place of honour--say the central panel in a pale yellow or _rose Dubarry_ drawing-room, or a monumental easel placed so that it took the light through curtains of old Venetian point. The more modest place became the picture better; yet, as my eyes grew accustomed to the half-light, all the characteristic qualities came out--all the hesitations disguised as audacities, the tricks of prestidigitation by which, with such consummate skill, he managed to divert attention from the real business of the picture to some pretty irrelevance of detail. Mrs. Gisburn, presenting a neutral surface to work on--forming, as it were, so inevitably the background of her own picture--had lent herself in an unusual degree to the display of this false virtuosity. The picture was one of Jack\\'s \"strongest,\" as his admirers would have put it--it represented, on his part, a swelling of muscles, a congesting of veins, a balancing, straddling and straining, that reminded one of the circus-clown\\'s ironic efforts to lift a feather. It met, in short, at every point the demand of lovely woman to be painted \"strongly\" because she was tired of being painted \"sweetly\"--and yet not to lose an atom of the sweetness.\\n\\n\"It\\'s the last he painted, you know,\" Mrs. Gisburn said with pardonable pride. \"The last but one,\" she corrected herself--\"but the other doesn\\'t count, because he destroyed it.\"\\n\\n\"Destroyed it?\" I was about to follow up this clue when I heard a footstep and saw Jack himself on the threshold.\\n\\nAs he stood there, his hands in the pockets of his velveteen coat, the thin brown waves of hair pushed back from his white forehead, his lean sunburnt cheeks furrowed by a smile that lifted the tips of a self-confident moustache, I felt to what a degree he had the same quality as his pictures--the quality of looking cleverer than he was.\\n\\nHis wife glanced at him deprecatingly, but his eyes travelled past her to the portrait.\\n\\n\"Mr. Rickham wanted to see it,\" she began, as if excusing herself. He shrugged his shoulders, still smiling.\\n\\n\"Oh, Rickham found me out long ago,\" he said lightly; then, passing his arm through mine: \"Come and see the rest of the house.\"\\n\\nHe showed it to me with a kind of naive suburban pride: the bath-rooms, the speaking-tubes, the dress-closets, the trouser-presses--all the complex simplifications of the millionaire\\'s domestic economy. And whenever my wonder paid the expected tribute he said, throwing out his chest a little: \"Yes, I really don\\'t see how people manage to live without that.\"\\n\\nWell--it was just the end one might have foreseen for him. Only he was, through it all and in spite of it all--as he had been through, and in spite of, his pictures--so handsome, so charming, so disarming, that one longed to cry out: \"Be dissatisfied with your leisure!\" as once one had longed to say: \"Be dissatisfied with your work!\"\\n\\nBut, with the cry on my lips, my diagnosis suffered an unexpected check.\\n\\n\"This is my own lair,\" he said, leading me into a dark plain room at the end of the florid vista. It was square and brown and leathery: no \"effects\"; no bric-a-brac, none of the air of posing for reproduction in a picture weekly--above all, no least sign of ever having been used as a studio.\\n\\nThe fact brought home to me the absolute finality of Jack\\'s break with his old life.\\n\\n\"Don\\'t you ever dabble with paint any more?\" I asked, still looking about for a trace of such activity.\\n\\n\"Never,\" he said briefly.\\n\\n\"Or water-colour--or etching?\"\\n\\nHis confident eyes grew dim, and his cheeks paled a little under their handsome sunburn.\\n\\n\"Never think of it, my dear fellow--any more than if I\\'d never touched a brush.\"\\n\\nAnd his tone told me in a flash that he never thought of anything else.\\n\\nI moved away, instinctively embarrassed by my unexpected discovery; and as I turned, my eye fell on a small picture above the mantel-piece--the only object breaking the plain oak panelling of the room.\\n\\n\"Oh, by Jove!\" I said.\\n\\nIt was a sketch of a donkey--an old tired donkey, standing in the rain under a wall.\\n\\n\"By Jove--a Stroud!\" I cried.\\n\\nHe was silent; but I felt him close behind me, breathing a little quickly.\\n\\n\"What a wonder! Made with a dozen lines--but on everlasting foundations. You lucky chap, where did you get it?\"\\n\\nHe answered slowly: \"Mrs. Stroud gave it to me.\"\\n\\n\"Ah--I didn\\'t know you even knew the Strouds. He was such an inflexible hermit.\"\\n\\n\"I didn\\'t--till after. . . . She sent for me to paint him when he was dead.\"\\n\\n\"When he was dead? You?\"\\n\\nI must have let a little too much amazement escape through my surprise, for he answered with a deprecating laugh: \"Yes--she\\'s an awful simpleton, you know, Mrs. Stroud. Her only idea was to have him done by a fashionable painter--ah, poor Stroud! She thought it the surest way of proclaiming his greatness--of forcing it on a purblind public. And at the moment I was _the_ fashionable painter.\"\\n\\n\"Ah, poor Stroud--as you say. Was _that_ his history?\"\\n\\n\"That was his history. She believed in him, gloried in him--or thought she did. But she couldn\\'t bear not to have all the drawing-rooms with her. She couldn\\'t bear the fact that, on varnishing days, one could always get near enough to see his pictures. Poor woman! She\\'s just a fragment groping for other fragments. Stroud is the only whole I ever knew.\"\\n\\n\"You ever knew? But you just said--\"\\n\\nGisburn had a curious smile in his eyes.\\n\\n\"Oh, I knew him, and he knew me--only it happened after he was dead.\"\\n\\nI dropped my voice instinctively. \"When she sent for you?\"\\n\\n\"Yes--quite insensible to the irony. She wanted him vindicated--and by me!\"\\n\\nHe laughed again, and threw back his head to look up at the sketch of the donkey. \"There were days when I couldn\\'t look at that thing--couldn\\'t face it. But I forced myself to put it here; and now it\\'s cured me--cured me. That\\'s the reason why I don\\'t dabble any more, my dear Rickham; or rather Stroud himself is the reason.\"\\n\\nFor the first time my idle curiosity about my companion turned into a serious desire to understand him better.\\n\\n\"I wish you\\'d tell me how it happened,\" I said.\\n\\nHe stood looking up at the sketch, and twirling between his fingers a cigarette he had forgotten to light. Suddenly he turned toward me.\\n\\n\"I\\'d rather like to tell you--because I\\'ve always suspected you of loathing my work.\"\\n\\nI made a deprecating gesture, which he negatived with a good-humoured shrug.\\n\\n\"Oh, I didn\\'t care a straw when I believed in myself--and now it\\'s an added tie between us!\"\\n\\nHe laughed slightly, without bitterness, and pushed one of the deep arm-chairs forward. \"There: make yourself comfortable--and here are the cigars you like.\"\\n\\nHe placed them at my elbow and continued to wander up and down the room, stopping now and then beneath the picture.\\n\\n\"How it happened? I can tell you in five minutes--and it didn\\'t take much longer to happen. . . . I can remember now how surprised and pleased I was when I got Mrs. Stroud\\'s note. Of course, deep down, I had always _felt_ there was no one like him--only I had gone with the stream, echoed the usual platitudes about him, till I half got to think he was a failure, one of the kind that are left behind. By Jove, and he _was_ left behind--because he had come to stay! The rest of us had to let ourselves be swept along or go under, but he was high above the current--on everlasting foundations, as you say.\\n\\n\"Well, I went off to the house in my most egregious mood--rather moved, Lord forgive me, at the pathos of poor Stroud\\'s career of failure being crowned by the glory of my painting him! Of course I meant to do the picture for nothing--I told Mrs. Stroud so when she began to stammer something about her poverty. I remember getting off a prodigious phrase about the honour being _mine_--oh, I was princely, my dear Rickham! I was posing to myself like one of my own sitters.\\n\\n\"Then I was taken up and left alone with him. I had sent all my traps in advance, and I had only to set up the easel and get to work. He had been dead only twenty-four hours, and he died suddenly, of heart disease, so that there had been no preliminary work of destruction--his face was clear and untouched. I had met him once or twice, years before, and thought him insignificant and dingy. Now I saw that he was superb.\\n\\n\"I was glad at first, with a merely aesthetic satisfaction: glad to have my hand on such a \\'subject.\\' Then his strange life-likeness began to affect me queerly--as I blocked the head in I felt as if he were watching me do it. The sensation was followed by the thought: if he _were_ watching me, what would he say to my way of working? My strokes began to go a little wild--I felt nervous and uncertain.\\n\\n\"Once, when I looked up, I seemed to see a smile behind his close grayish beard--as if he had the secret, and were amusing himself by holding it back from me. That exasperated me still more. The secret? Why, I had a secret worth twenty of his! I dashed at the canvas furiously, and tried some of my bravura tricks. But they failed me, they crumbled. I saw that he wasn\\'t watching the showy bits--I couldn\\'t distract his attention; he just kept his eyes on the hard passages between. Those were the ones I had always shirked, or covered up with some lying paint. And how he saw through my lies!\\n\\n\"I looked up again, and caught sight of that sketch of the donkey hanging on the wall near his bed. His wife told me afterward it was the last thing he had done--just a note taken with a shaking hand, when he was down in Devonshire recovering from a previous heart attack. Just a note! But it tells his whole history. There are years of patient scornful persistence in every line. A man who had swum with the current could never have learned that mighty up-stream stroke. . . .\\n\\n\"I turned back to my work, and went on groping and muddling; then I looked at the donkey again. I saw that, when Stroud laid in the first stroke, he knew just what the end would be. He had possessed his subject, absorbed it, recreated it. When had I done that with any of my things? They hadn\\'t been born of me--I had just adopted them. . . .\\n\\n\"Hang it, Rickham, with that face watching me I couldn\\'t do another stroke. The plain truth was, I didn\\'t know where to put it--_I had never known_. Only, with my sitters and my public, a showy splash of colour covered up the fact--I just threw paint into their faces. . . . Well, paint was the one medium those dead eyes could see through--see straight to the tottering foundations underneath. Don\\'t you know how, in talking a foreign language, even fluently, one says half the time not what one wants to but what one can? Well--that was the way I painted; and as he lay there and watched me, the thing they called my \\'technique\\' collapsed like a house of cards. He didn\\'t sneer, you understand, poor Stroud--he just lay there quietly watching, and on his lips, through the gray beard, I seemed to hear the question: \\'Are you sure you know where you\\'re coming out?\\'\\n\\n\"If I could have painted that face, with that question on it, I should have done a great thing. The next greatest thing was to see that I couldn\\'t--and that grace was given me. But, oh, at that minute, Rickham, was there anything on earth I wouldn\\'t have given to have Stroud alive before me, and to hear him say: \\'It\\'s not too late--I\\'ll show you how\\'?\\n\\n\"It _was_ too late--it would have been, even if he\\'d been alive. I packed up my traps, and went down and told Mrs. Stroud. Of course I didn\\'t tell her _that_--it would have been Greek to her. I simply said I couldn\\'t paint him, that I was too moved. She rather liked the idea--she\\'s so romantic! It was that that made her give me the donkey. But she was terribly upset at not getting the portrait--she did so want him \\'done\\' by some one showy! At first I was afraid she wouldn\\'t let me off--and at my wits\\' end I suggested Grindle. Yes, it was I who started Grindle: I told Mrs. Stroud he was the \\'coming\\' man, and she told somebody else, and so it got to be true. . . . And he painted Stroud without wincing; and she hung the picture among her husband\\'s things. . . .\"\\n\\nHe flung himself down in the arm-chair near mine, laid back his head, and clasping his arms beneath it, looked up at the picture above the chimney-piece.\\n\\n\"I like to fancy that Stroud himself would have given it to me, if he\\'d been able to say what he thought that day.\"\\n\\nAnd, in answer to a question I put half-mechanically--\"Begin again?\" he flashed out. \"When the one thing that brings me anywhere near him is that I knew enough to leave off?\"\\n\\nHe stood up and laid his hand on my shoulder with a laugh. \"Only the irony of it is that I _am_ still painting--since Grindle\\'s doing it for me! The Strouds stand alone, and happen once--but there\\'s no exterminating our kind of art.\"'"
      ]
     },
     "execution_count": 9,
     "metadata": {},
     "output_type": "execute_result"
    }
   ],
   "source": [
    "raw_text"
   ]
  },
  {
   "cell_type": "code",
   "execution_count": 10,
   "id": "72e5ed25",
   "metadata": {},
   "outputs": [
    {
     "data": {
      "text/plain": [
       "20479"
      ]
     },
     "execution_count": 10,
     "metadata": {},
     "output_type": "execute_result"
    }
   ],
   "source": [
    "len(raw_text)"
   ]
  },
  {
   "cell_type": "code",
   "execution_count": 11,
   "id": "81f0bcfe",
   "metadata": {},
   "outputs": [
    {
     "name": "stdout",
     "output_type": "stream",
     "text": [
      "['Hello,', ' ', 'world.', ' ', 'This', ' ', ',', ' ', 'is', ' ', 'a', ' ', 'test.']\n"
     ]
    }
   ],
   "source": [
    "import re\n",
    "\n",
    "text = \"Hello, world. This , is a test.\"\n",
    "result = re.split(r'(\\s)', text)\n",
    "\n",
    "print(result)"
   ]
  },
  {
   "cell_type": "code",
   "execution_count": 13,
   "id": "0af49321",
   "metadata": {},
   "outputs": [
    {
     "name": "stdout",
     "output_type": "stream",
     "text": [
      "['Hello', ',', '', ' ', 'world', '.', '', ' ', 'This', ' ', '', ',', '', ' ', 'is', ' ', 'a', ' ', 'test', '.', '']\n"
     ]
    }
   ],
   "source": [
    "result = re.split(r\"([,.]|\\s)\", text)\n",
    "print(result)"
   ]
  },
  {
   "cell_type": "code",
   "execution_count": 14,
   "id": "aec02db1",
   "metadata": {},
   "outputs": [
    {
     "name": "stdout",
     "output_type": "stream",
     "text": [
      "['Hello', ',', 'world', '.', 'This', ',', 'is', 'a', 'test', '.']\n"
     ]
    }
   ],
   "source": [
    "result = [item for item in result if item.strip()]\n",
    "print(result)"
   ]
  },
  {
   "cell_type": "code",
   "execution_count": 17,
   "id": "a025621d",
   "metadata": {},
   "outputs": [],
   "source": [
    "result = re.split(r'([,.:;?\"()\\']|--|\\s)', raw_text)\n",
    "\n",
    "result = [item.strip() for item in result if item.strip()]\n",
    "preprocessed = result"
   ]
  },
  {
   "cell_type": "code",
   "execution_count": 18,
   "id": "07505e6d",
   "metadata": {},
   "outputs": [
    {
     "data": {
      "text/plain": [
       "4630"
      ]
     },
     "execution_count": 18,
     "metadata": {},
     "output_type": "execute_result"
    }
   ],
   "source": [
    "len(preprocessed)"
   ]
  },
  {
   "cell_type": "markdown",
   "id": "1d479a0c",
   "metadata": {},
   "source": [
    "## 2. Converting tokens into token IDs:"
   ]
  },
  {
   "cell_type": "code",
   "execution_count": 19,
   "id": "7a71dd66",
   "metadata": {},
   "outputs": [
    {
     "data": {
      "text/plain": [
       "['I',\n",
       " 'HAD',\n",
       " 'always',\n",
       " 'thought',\n",
       " 'Jack',\n",
       " 'Gisburn',\n",
       " 'rather',\n",
       " 'a',\n",
       " 'cheap',\n",
       " 'genius']"
      ]
     },
     "execution_count": 19,
     "metadata": {},
     "output_type": "execute_result"
    }
   ],
   "source": [
    "preprocessed[:10]"
   ]
  },
  {
   "cell_type": "code",
   "execution_count": 20,
   "id": "eed03218",
   "metadata": {},
   "outputs": [
    {
     "name": "stdout",
     "output_type": "stream",
     "text": [
      "1157\n"
     ]
    }
   ],
   "source": [
    "all_words = sorted(set(preprocessed))\n",
    "vocab_size = len(all_words)\n",
    "print(vocab_size)"
   ]
  },
  {
   "cell_type": "code",
   "execution_count": 23,
   "id": "18b0be84",
   "metadata": {},
   "outputs": [
    {
     "data": {
      "text/plain": [
       "{'\"': 0,\n",
       " \"'\": 1,\n",
       " '(': 2,\n",
       " ')': 3,\n",
       " ',': 4,\n",
       " '--': 5,\n",
       " '.': 6,\n",
       " ':': 7,\n",
       " ';': 8,\n",
       " '?': 9,\n",
       " 'A': 10,\n",
       " 'Ah': 11,\n",
       " 'Among': 12,\n",
       " 'And': 13,\n",
       " 'Are': 14,\n",
       " 'Arrt': 15,\n",
       " 'As': 16,\n",
       " 'At': 17,\n",
       " 'Be': 18,\n",
       " 'Begin': 19,\n",
       " 'Burlington': 20,\n",
       " 'But': 21,\n",
       " 'By': 22,\n",
       " 'Carlo': 23,\n",
       " 'Chicago': 24,\n",
       " 'Claude': 25,\n",
       " 'Come': 26,\n",
       " 'Croft': 27,\n",
       " 'Destroyed': 28,\n",
       " 'Devonshire': 29,\n",
       " 'Don': 30,\n",
       " 'Dubarry_': 31,\n",
       " 'Emperors': 32,\n",
       " 'Florence': 33,\n",
       " 'For': 34,\n",
       " 'Gallery': 35,\n",
       " 'Gideon': 36,\n",
       " 'Gisburn': 37,\n",
       " 'Gisburn!': 38,\n",
       " 'Gisburns': 39,\n",
       " 'Grafton': 40,\n",
       " 'Greek': 41,\n",
       " 'Grindle': 42,\n",
       " 'Grindles': 43,\n",
       " 'HAD': 44,\n",
       " 'Had': 45,\n",
       " 'Hang': 46,\n",
       " 'Has': 47,\n",
       " 'He': 48,\n",
       " 'Her': 49,\n",
       " 'Hermia': 50,\n",
       " 'His': 51,\n",
       " 'How': 52,\n",
       " 'I': 53,\n",
       " 'If': 54,\n",
       " 'In': 55,\n",
       " 'It': 56,\n",
       " 'Jack': 57,\n",
       " 'Jack!': 58,\n",
       " 'Jove': 59,\n",
       " 'Jove!': 60,\n",
       " 'Just': 61,\n",
       " 'Lord': 62,\n",
       " 'Made': 63,\n",
       " 'Miss': 64,\n",
       " 'Money': 65,\n",
       " 'Monte': 66,\n",
       " 'Moon-dancers': 67,\n",
       " 'Mr': 68,\n",
       " 'Mrs': 69,\n",
       " 'My': 70,\n",
       " 'Never': 71,\n",
       " 'No': 72,\n",
       " 'Now': 73,\n",
       " 'Nutley': 74,\n",
       " 'Of': 75,\n",
       " 'Oh': 76,\n",
       " 'On': 77,\n",
       " 'Once': 78,\n",
       " 'Only': 79,\n",
       " 'Or': 80,\n",
       " 'Perhaps': 81,\n",
       " 'Poor': 82,\n",
       " 'Professional': 83,\n",
       " 'Renaissance': 84,\n",
       " 'Rickham': 85,\n",
       " 'Rickham!': 86,\n",
       " 'Riviera': 87,\n",
       " 'Rome': 88,\n",
       " 'Russian': 89,\n",
       " 'Sevres': 90,\n",
       " 'She': 91,\n",
       " 'Stroud': 92,\n",
       " 'Stroud!': 93,\n",
       " 'Strouds': 94,\n",
       " 'Suddenly': 95,\n",
       " 'That': 96,\n",
       " 'The': 97,\n",
       " 'Then': 98,\n",
       " 'There': 99,\n",
       " 'They': 100,\n",
       " 'This': 101,\n",
       " 'Those': 102,\n",
       " 'Though': 103,\n",
       " 'Thwing': 104,\n",
       " 'Thwings': 105,\n",
       " 'To': 106,\n",
       " 'Usually': 107,\n",
       " 'Venetian': 108,\n",
       " 'Victor': 109,\n",
       " 'Was': 110,\n",
       " 'We': 111,\n",
       " 'Well': 112,\n",
       " 'Well!': 113,\n",
       " 'What': 114,\n",
       " 'When': 115,\n",
       " 'Why': 116,\n",
       " 'Yes': 117,\n",
       " 'You': 118,\n",
       " '_I': 119,\n",
       " '_am_': 120,\n",
       " '_famille-verte_': 121,\n",
       " '_felt_': 122,\n",
       " '_has_': 123,\n",
       " '_have_': 124,\n",
       " '_jardiniere_': 125,\n",
       " '_mine_': 126,\n",
       " '_not_': 127,\n",
       " '_rose': 128,\n",
       " '_rs_': 129,\n",
       " '_that_': 130,\n",
       " '_the_': 131,\n",
       " '_was_': 132,\n",
       " '_were_': 133,\n",
       " 'a': 134,\n",
       " 'abdication': 135,\n",
       " 'able': 136,\n",
       " 'about': 137,\n",
       " 'above': 138,\n",
       " 'abruptly': 139,\n",
       " 'absolute': 140,\n",
       " 'absorbed': 141,\n",
       " 'absurdity': 142,\n",
       " 'academic': 143,\n",
       " 'accuse': 144,\n",
       " 'accustomed': 145,\n",
       " 'across': 146,\n",
       " 'activity': 147,\n",
       " 'add': 148,\n",
       " 'added': 149,\n",
       " 'admirers': 150,\n",
       " 'adopted': 151,\n",
       " 'adulation': 152,\n",
       " 'advance': 153,\n",
       " 'aesthetic': 154,\n",
       " 'affect': 155,\n",
       " 'afraid': 156,\n",
       " 'after': 157,\n",
       " 'afterward': 158,\n",
       " 'again': 159,\n",
       " 'ago': 160,\n",
       " 'ah': 161,\n",
       " 'air': 162,\n",
       " 'alive': 163,\n",
       " 'all': 164,\n",
       " 'almost': 165,\n",
       " 'alone': 166,\n",
       " 'along': 167,\n",
       " 'always': 168,\n",
       " 'amazement': 169,\n",
       " 'amid': 170,\n",
       " 'among': 171,\n",
       " 'amplest': 172,\n",
       " 'amusing': 173,\n",
       " 'an': 174,\n",
       " 'and': 175,\n",
       " 'another': 176,\n",
       " 'answer': 177,\n",
       " 'answered': 178,\n",
       " 'any': 179,\n",
       " 'anything': 180,\n",
       " 'anywhere': 181,\n",
       " 'apparent': 182,\n",
       " 'apparently': 183,\n",
       " 'appearance': 184,\n",
       " 'appeared': 185,\n",
       " 'appointed': 186,\n",
       " 'are': 187,\n",
       " 'arm': 188,\n",
       " 'arm-chair': 189,\n",
       " 'arm-chairs': 190,\n",
       " 'arms': 191,\n",
       " 'art': 192,\n",
       " 'articles': 193,\n",
       " 'artist': 194,\n",
       " 'as': 195,\n",
       " 'aside': 196,\n",
       " 'asked': 197,\n",
       " 'at': 198,\n",
       " 'atmosphere': 199,\n",
       " 'atom': 200,\n",
       " 'attack': 201,\n",
       " 'attention': 202,\n",
       " 'attitude': 203,\n",
       " 'audacities': 204,\n",
       " 'away': 205,\n",
       " 'awful': 206,\n",
       " 'axioms': 207,\n",
       " 'azaleas': 208,\n",
       " 'back': 209,\n",
       " 'background': 210,\n",
       " 'balance': 211,\n",
       " 'balancing': 212,\n",
       " 'balustraded': 213,\n",
       " 'basking': 214,\n",
       " 'bath-rooms': 215,\n",
       " 'be': 216,\n",
       " 'beaming': 217,\n",
       " 'bean-stalk': 218,\n",
       " 'bear': 219,\n",
       " 'beard': 220,\n",
       " 'beauty': 221,\n",
       " 'became': 222,\n",
       " 'because': 223,\n",
       " 'becoming': 224,\n",
       " 'bed': 225,\n",
       " 'been': 226,\n",
       " 'before': 227,\n",
       " 'began': 228,\n",
       " 'begun': 229,\n",
       " 'behind': 230,\n",
       " 'being': 231,\n",
       " 'believed': 232,\n",
       " 'beneath': 233,\n",
       " 'bespoke': 234,\n",
       " 'better': 235,\n",
       " 'between': 236,\n",
       " 'big': 237,\n",
       " 'bits': 238,\n",
       " 'bitterness': 239,\n",
       " 'blocked': 240,\n",
       " 'born': 241,\n",
       " 'borne': 242,\n",
       " 'boudoir': 243,\n",
       " 'bravura': 244,\n",
       " 'break': 245,\n",
       " 'breaking': 246,\n",
       " 'breathing': 247,\n",
       " 'bric-a-brac': 248,\n",
       " 'briefly': 249,\n",
       " 'brings': 250,\n",
       " 'bronzes': 251,\n",
       " 'brought': 252,\n",
       " 'brown': 253,\n",
       " 'brush': 254,\n",
       " 'bull': 255,\n",
       " 'business': 256,\n",
       " 'but': 257,\n",
       " 'buying': 258,\n",
       " 'by': 259,\n",
       " 'called': 260,\n",
       " 'came': 261,\n",
       " 'can': 262,\n",
       " 'canvas': 263,\n",
       " 'canvases': 264,\n",
       " 'cards': 265,\n",
       " 'care': 266,\n",
       " 'career': 267,\n",
       " 'caught': 268,\n",
       " 'central': 269,\n",
       " 'chair': 270,\n",
       " 'chap': 271,\n",
       " 'characteristic': 272,\n",
       " 'charming': 273,\n",
       " 'cheap': 274,\n",
       " 'check': 275,\n",
       " 'cheeks': 276,\n",
       " 'chest': 277,\n",
       " 'chimney-piece': 278,\n",
       " 'chucked': 279,\n",
       " 'cigar': 280,\n",
       " 'cigarette': 281,\n",
       " 'cigars': 282,\n",
       " 'circulation': 283,\n",
       " 'circumstance': 284,\n",
       " 'circus-clown': 285,\n",
       " 'claimed': 286,\n",
       " 'clasping': 287,\n",
       " 'clear': 288,\n",
       " 'cleverer': 289,\n",
       " 'close': 290,\n",
       " 'clue': 291,\n",
       " 'coat': 292,\n",
       " 'collapsed': 293,\n",
       " 'colour': 294,\n",
       " 'come': 295,\n",
       " 'comfortable': 296,\n",
       " 'coming': 297,\n",
       " 'companion': 298,\n",
       " 'compared': 299,\n",
       " 'complex': 300,\n",
       " 'confident': 301,\n",
       " 'congesting': 302,\n",
       " 'conjugal': 303,\n",
       " 'constraint': 304,\n",
       " 'consummate': 305,\n",
       " 'contended': 306,\n",
       " 'continued': 307,\n",
       " 'corner': 308,\n",
       " 'corrected': 309,\n",
       " 'could': 310,\n",
       " 'couldn': 311,\n",
       " 'count': 312,\n",
       " 'countenance': 313,\n",
       " 'couple': 314,\n",
       " 'course': 315,\n",
       " 'covered': 316,\n",
       " 'craft': 317,\n",
       " 'cried': 318,\n",
       " 'crossed': 319,\n",
       " 'crowned': 320,\n",
       " 'crumbled': 321,\n",
       " 'cry': 322,\n",
       " 'cured': 323,\n",
       " 'curiosity': 324,\n",
       " 'curious': 325,\n",
       " 'current': 326,\n",
       " 'curtains': 327,\n",
       " 'd': 328,\n",
       " 'dabble': 329,\n",
       " 'damask': 330,\n",
       " 'dark': 331,\n",
       " 'dashed': 332,\n",
       " 'day': 333,\n",
       " 'days': 334,\n",
       " 'dead': 335,\n",
       " 'deadening': 336,\n",
       " 'dear': 337,\n",
       " 'deep': 338,\n",
       " 'deerhound': 339,\n",
       " 'degree': 340,\n",
       " 'delicate': 341,\n",
       " 'demand': 342,\n",
       " 'denied': 343,\n",
       " 'deploring': 344,\n",
       " 'deprecating': 345,\n",
       " 'deprecatingly': 346,\n",
       " 'desire': 347,\n",
       " 'destroyed': 348,\n",
       " 'destruction': 349,\n",
       " 'desultory': 350,\n",
       " 'detail': 351,\n",
       " 'diagnosis': 352,\n",
       " 'did': 353,\n",
       " 'didn': 354,\n",
       " 'died': 355,\n",
       " 'dim': 356,\n",
       " 'dimmest': 357,\n",
       " 'dingy': 358,\n",
       " 'dining-room': 359,\n",
       " 'disarming': 360,\n",
       " 'discovery': 361,\n",
       " 'discrimination': 362,\n",
       " 'discussion': 363,\n",
       " 'disdain': 364,\n",
       " 'disdained': 365,\n",
       " 'disease': 366,\n",
       " 'disguised': 367,\n",
       " 'display': 368,\n",
       " 'dissatisfied': 369,\n",
       " 'distinguished': 370,\n",
       " 'distract': 371,\n",
       " 'divert': 372,\n",
       " 'do': 373,\n",
       " 'doesn': 374,\n",
       " 'doing': 375,\n",
       " 'domestic': 376,\n",
       " 'don': 377,\n",
       " 'done': 378,\n",
       " 'donkey': 379,\n",
       " 'down': 380,\n",
       " 'dozen': 381,\n",
       " 'dragged': 382,\n",
       " 'drawing-room': 383,\n",
       " 'drawing-rooms': 384,\n",
       " 'drawn': 385,\n",
       " 'dress-closets': 386,\n",
       " 'drew': 387,\n",
       " 'dropped': 388,\n",
       " 'each': 389,\n",
       " 'earth': 390,\n",
       " 'ease': 391,\n",
       " 'easel': 392,\n",
       " 'easy': 393,\n",
       " 'echoed': 394,\n",
       " 'economy': 395,\n",
       " 'effect': 396,\n",
       " 'effects': 397,\n",
       " 'efforts': 398,\n",
       " 'egregious': 399,\n",
       " 'eighteenth-century': 400,\n",
       " 'elbow': 401,\n",
       " 'elegant': 402,\n",
       " 'else': 403,\n",
       " 'embarrassed': 404,\n",
       " 'enabled': 405,\n",
       " 'end': 406,\n",
       " 'endless': 407,\n",
       " 'enjoy': 408,\n",
       " 'enlightenment': 409,\n",
       " 'enough': 410,\n",
       " 'ensuing': 411,\n",
       " 'equally': 412,\n",
       " 'equanimity': 413,\n",
       " 'escape': 414,\n",
       " 'established': 415,\n",
       " 'etching': 416,\n",
       " 'even': 417,\n",
       " 'event': 418,\n",
       " 'ever': 419,\n",
       " 'everlasting': 420,\n",
       " 'every': 421,\n",
       " 'exasperated': 422,\n",
       " 'except': 423,\n",
       " 'excuse': 424,\n",
       " 'excusing': 425,\n",
       " 'existed': 426,\n",
       " 'expected': 427,\n",
       " 'exquisite': 428,\n",
       " 'exquisitely': 429,\n",
       " 'extenuation': 430,\n",
       " 'exterminating': 431,\n",
       " 'extracting': 432,\n",
       " 'eye': 433,\n",
       " 'eyebrows': 434,\n",
       " 'eyes': 435,\n",
       " 'face': 436,\n",
       " 'faces': 437,\n",
       " 'fact': 438,\n",
       " 'faded': 439,\n",
       " 'failed': 440,\n",
       " 'failure': 441,\n",
       " 'fair': 442,\n",
       " 'faith': 443,\n",
       " 'false': 444,\n",
       " 'familiar': 445,\n",
       " 'fancy': 446,\n",
       " 'fashionable': 447,\n",
       " 'fate': 448,\n",
       " 'feather': 449,\n",
       " 'feet': 450,\n",
       " 'fell': 451,\n",
       " 'fellow': 452,\n",
       " 'felt': 453,\n",
       " 'few': 454,\n",
       " 'fewer': 455,\n",
       " 'finality': 456,\n",
       " 'find': 457,\n",
       " 'fingers': 458,\n",
       " 'first': 459,\n",
       " 'fit': 460,\n",
       " 'fitting': 461,\n",
       " 'five': 462,\n",
       " 'flash': 463,\n",
       " 'flashed': 464,\n",
       " 'florid': 465,\n",
       " 'flowers': 466,\n",
       " 'fluently': 467,\n",
       " 'flung': 468,\n",
       " 'follow': 469,\n",
       " 'followed': 470,\n",
       " 'fond': 471,\n",
       " 'footstep': 472,\n",
       " 'for': 473,\n",
       " 'forced': 474,\n",
       " 'forcing': 475,\n",
       " 'forehead': 476,\n",
       " 'foreign': 477,\n",
       " 'foreseen': 478,\n",
       " 'forgive': 479,\n",
       " 'forgotten': 480,\n",
       " 'form': 481,\n",
       " 'formed': 482,\n",
       " 'forming': 483,\n",
       " 'forward': 484,\n",
       " 'fostered': 485,\n",
       " 'found': 486,\n",
       " 'foundations': 487,\n",
       " 'fragment': 488,\n",
       " 'fragments': 489,\n",
       " 'frame': 490,\n",
       " 'frames': 491,\n",
       " 'frequently': 492,\n",
       " 'friend': 493,\n",
       " 'from': 494,\n",
       " 'full': 495,\n",
       " 'fullest': 496,\n",
       " 'furiously': 497,\n",
       " 'furrowed': 498,\n",
       " 'garlanded': 499,\n",
       " 'garlands': 500,\n",
       " 'gave': 501,\n",
       " 'genial': 502,\n",
       " 'genius': 503,\n",
       " 'gesture': 504,\n",
       " 'get': 505,\n",
       " 'getting': 506,\n",
       " 'give': 507,\n",
       " 'given': 508,\n",
       " 'glad': 509,\n",
       " 'glanced': 510,\n",
       " 'glimpse': 511,\n",
       " 'gloried': 512,\n",
       " 'glory': 513,\n",
       " 'go': 514,\n",
       " 'going': 515,\n",
       " 'gone': 516,\n",
       " 'good': 517,\n",
       " 'good-breeding': 518,\n",
       " 'good-humoured': 519,\n",
       " 'got': 520,\n",
       " 'grace': 521,\n",
       " 'gradually': 522,\n",
       " 'gray': 523,\n",
       " 'grayish': 524,\n",
       " 'great': 525,\n",
       " 'greatest': 526,\n",
       " 'greatness': 527,\n",
       " 'grew': 528,\n",
       " 'groping': 529,\n",
       " 'growing': 530,\n",
       " 'had': 531,\n",
       " 'hadn': 532,\n",
       " 'hair': 533,\n",
       " 'half': 534,\n",
       " 'half-light': 535,\n",
       " 'half-mechanically': 536,\n",
       " 'hall': 537,\n",
       " 'hand': 538,\n",
       " 'hands': 539,\n",
       " 'handsome': 540,\n",
       " 'hanging': 541,\n",
       " 'happen': 542,\n",
       " 'happened': 543,\n",
       " 'hard': 544,\n",
       " 'hardly': 545,\n",
       " 'have': 546,\n",
       " 'haven': 547,\n",
       " 'having': 548,\n",
       " 'he': 549,\n",
       " 'head': 550,\n",
       " 'hear': 551,\n",
       " 'heard': 552,\n",
       " 'heart': 553,\n",
       " 'height': 554,\n",
       " 'her': 555,\n",
       " 'here': 556,\n",
       " 'hermit': 557,\n",
       " 'herself': 558,\n",
       " 'hesitations': 559,\n",
       " 'hide': 560,\n",
       " 'high': 561,\n",
       " 'him': 562,\n",
       " 'him!': 563,\n",
       " 'himself': 564,\n",
       " 'hint': 565,\n",
       " 'his': 566,\n",
       " 'his!': 567,\n",
       " 'history': 568,\n",
       " 'holding': 569,\n",
       " 'home': 570,\n",
       " 'honour': 571,\n",
       " 'hooded': 572,\n",
       " 'hostess': 573,\n",
       " 'hot-house': 574,\n",
       " 'hour': 575,\n",
       " 'hours': 576,\n",
       " 'house': 577,\n",
       " 'how': 578,\n",
       " 'hung': 579,\n",
       " 'husband': 580,\n",
       " 'idea': 581,\n",
       " 'idle': 582,\n",
       " 'idling': 583,\n",
       " 'if': 584,\n",
       " 'immediately': 585,\n",
       " 'in': 586,\n",
       " 'incense': 587,\n",
       " 'indifferent': 588,\n",
       " 'inevitable': 589,\n",
       " 'inevitably': 590,\n",
       " 'inflexible': 591,\n",
       " 'insensible': 592,\n",
       " 'insignificant': 593,\n",
       " 'instinctively': 594,\n",
       " 'instructive': 595,\n",
       " 'interesting': 596,\n",
       " 'into': 597,\n",
       " 'ironic': 598,\n",
       " 'irony': 599,\n",
       " 'irrelevance': 600,\n",
       " 'irrevocable': 601,\n",
       " 'is': 602,\n",
       " 'it': 603,\n",
       " 'its': 604,\n",
       " 'itself': 605,\n",
       " 'jealousy': 606,\n",
       " 'just': 607,\n",
       " 'keep': 608,\n",
       " 'kept': 609,\n",
       " 'kind': 610,\n",
       " 'knees': 611,\n",
       " 'knew': 612,\n",
       " 'know': 613,\n",
       " 'known_': 614,\n",
       " 'laid': 615,\n",
       " 'lair': 616,\n",
       " 'landing': 617,\n",
       " 'language': 618,\n",
       " 'last': 619,\n",
       " 'late': 620,\n",
       " 'later': 621,\n",
       " 'latter': 622,\n",
       " 'laugh': 623,\n",
       " 'laughed': 624,\n",
       " 'lay': 625,\n",
       " 'leading': 626,\n",
       " 'lean': 627,\n",
       " 'learned': 628,\n",
       " 'least': 629,\n",
       " 'leathery': 630,\n",
       " 'leave': 631,\n",
       " 'led': 632,\n",
       " 'left': 633,\n",
       " 'leisure!': 634,\n",
       " 'lends': 635,\n",
       " 'lent': 636,\n",
       " 'let': 637,\n",
       " 'lies!': 638,\n",
       " 'life': 639,\n",
       " 'life-likeness': 640,\n",
       " 'lift': 641,\n",
       " 'lifted': 642,\n",
       " 'light': 643,\n",
       " 'lightly': 644,\n",
       " 'like': 645,\n",
       " 'liked': 646,\n",
       " 'line': 647,\n",
       " 'lines': 648,\n",
       " 'lingered': 649,\n",
       " 'lips': 650,\n",
       " 'lit': 651,\n",
       " 'little': 652,\n",
       " 'live': 653,\n",
       " 'll': 654,\n",
       " 'loathing': 655,\n",
       " 'long': 656,\n",
       " 'longed': 657,\n",
       " 'longer': 658,\n",
       " 'look': 659,\n",
       " 'looked': 660,\n",
       " 'looking': 661,\n",
       " 'lose': 662,\n",
       " 'loss': 663,\n",
       " 'lounging': 664,\n",
       " 'lovely': 665,\n",
       " 'lucky': 666,\n",
       " 'lump': 667,\n",
       " 'luncheon-table': 668,\n",
       " 'luxury': 669,\n",
       " 'lying': 670,\n",
       " 'made': 671,\n",
       " 'make': 672,\n",
       " 'man': 673,\n",
       " 'manage': 674,\n",
       " 'managed': 675,\n",
       " 'mantel-piece': 676,\n",
       " 'marble': 677,\n",
       " 'married': 678,\n",
       " 'may': 679,\n",
       " 'me': 680,\n",
       " 'me!': 681,\n",
       " 'meant': 682,\n",
       " 'mediocrity': 683,\n",
       " 'medium': 684,\n",
       " 'mentioned': 685,\n",
       " 'mere': 686,\n",
       " 'merely': 687,\n",
       " 'met': 688,\n",
       " 'might': 689,\n",
       " 'mighty': 690,\n",
       " 'millionaire': 691,\n",
       " 'mine': 692,\n",
       " 'minute': 693,\n",
       " 'minutes': 694,\n",
       " 'mirrors': 695,\n",
       " 'modest': 696,\n",
       " 'modesty': 697,\n",
       " 'moment': 698,\n",
       " 'money': 699,\n",
       " 'monumental': 700,\n",
       " 'mood': 701,\n",
       " 'morbidly': 702,\n",
       " 'more': 703,\n",
       " 'most': 704,\n",
       " 'mourn': 705,\n",
       " 'mourned': 706,\n",
       " 'moustache': 707,\n",
       " 'moved': 708,\n",
       " 'much': 709,\n",
       " 'muddling': 710,\n",
       " 'multiplied': 711,\n",
       " 'murmur': 712,\n",
       " 'muscles': 713,\n",
       " 'must': 714,\n",
       " 'my': 715,\n",
       " 'myself': 716,\n",
       " 'mysterious': 717,\n",
       " 'naive': 718,\n",
       " 'near': 719,\n",
       " 'nearly': 720,\n",
       " 'negatived': 721,\n",
       " 'nervous': 722,\n",
       " 'nervousness': 723,\n",
       " 'neutral': 724,\n",
       " 'never': 725,\n",
       " 'next': 726,\n",
       " 'no': 727,\n",
       " 'none': 728,\n",
       " 'not': 729,\n",
       " 'note': 730,\n",
       " 'note!': 731,\n",
       " 'nothing': 732,\n",
       " 'now': 733,\n",
       " 'nymphs': 734,\n",
       " 'oak': 735,\n",
       " 'obituary': 736,\n",
       " 'object': 737,\n",
       " 'objects': 738,\n",
       " 'occurred': 739,\n",
       " 'oddly': 740,\n",
       " 'of': 741,\n",
       " 'off': 742,\n",
       " 'often': 743,\n",
       " 'oh': 744,\n",
       " 'old': 745,\n",
       " 'on': 746,\n",
       " 'once': 747,\n",
       " 'one': 748,\n",
       " 'ones': 749,\n",
       " 'only': 750,\n",
       " 'onto': 751,\n",
       " 'open': 752,\n",
       " 'or': 753,\n",
       " 'other': 754,\n",
       " 'our': 755,\n",
       " 'ourselves': 756,\n",
       " 'out': 757,\n",
       " 'outline': 758,\n",
       " 'oval': 759,\n",
       " 'over': 760,\n",
       " 'over!': 761,\n",
       " 'own': 762,\n",
       " 'packed': 763,\n",
       " 'paid': 764,\n",
       " 'paint': 765,\n",
       " 'painted': 766,\n",
       " 'painter': 767,\n",
       " 'painting': 768,\n",
       " 'pale': 769,\n",
       " 'paled': 770,\n",
       " 'palm-trees': 771,\n",
       " 'panel': 772,\n",
       " 'panelling': 773,\n",
       " 'pardonable': 774,\n",
       " 'pardoned': 775,\n",
       " 'part': 776,\n",
       " 'passages': 777,\n",
       " 'passing': 778,\n",
       " 'past': 779,\n",
       " 'past!': 780,\n",
       " 'pastels': 781,\n",
       " 'pathos': 782,\n",
       " 'patient': 783,\n",
       " 'people': 784,\n",
       " 'perceptible': 785,\n",
       " 'perfect': 786,\n",
       " 'persistence': 787,\n",
       " 'persuasively': 788,\n",
       " 'phrase': 789,\n",
       " 'picture': 790,\n",
       " 'pictures': 791,\n",
       " 'pines': 792,\n",
       " 'pink': 793,\n",
       " 'place': 794,\n",
       " 'placed': 795,\n",
       " 'plain': 796,\n",
       " 'platitudes': 797,\n",
       " 'pleased': 798,\n",
       " 'pockets': 799,\n",
       " 'point': 800,\n",
       " 'poised': 801,\n",
       " 'poor': 802,\n",
       " 'portrait': 803,\n",
       " 'posing': 804,\n",
       " 'possessed': 805,\n",
       " 'poverty': 806,\n",
       " 'predicted': 807,\n",
       " 'preliminary': 808,\n",
       " 'presenting': 809,\n",
       " 'prestidigitation': 810,\n",
       " 'pretty': 811,\n",
       " 'previous': 812,\n",
       " 'price': 813,\n",
       " 'pride': 814,\n",
       " 'princely': 815,\n",
       " 'prism': 816,\n",
       " 'problem': 817,\n",
       " 'proclaiming': 818,\n",
       " 'prodigious': 819,\n",
       " 'profusion': 820,\n",
       " 'protest': 821,\n",
       " 'prove': 822,\n",
       " 'public': 823,\n",
       " 'purblind': 824,\n",
       " 'purely': 825,\n",
       " 'pushed': 826,\n",
       " 'put': 827,\n",
       " 'qualities': 828,\n",
       " 'quality': 829,\n",
       " 'queerly': 830,\n",
       " 'question': 831,\n",
       " 'quickly': 832,\n",
       " 'quietly': 833,\n",
       " 'quite': 834,\n",
       " 'quote': 835,\n",
       " 'rain': 836,\n",
       " 'raised': 837,\n",
       " 'random': 838,\n",
       " 'rather': 839,\n",
       " 're': 840,\n",
       " 'real': 841,\n",
       " 'really': 842,\n",
       " 'reared': 843,\n",
       " 'reason': 844,\n",
       " 'reassurance': 845,\n",
       " 'recovering': 846,\n",
       " 'recreated': 847,\n",
       " 'reflected': 848,\n",
       " 'reflection': 849,\n",
       " 'regrets': 850,\n",
       " 'relatively': 851,\n",
       " 'remained': 852,\n",
       " 'remember': 853,\n",
       " 'reminded': 854,\n",
       " 'repeating': 855,\n",
       " 'represented': 856,\n",
       " 'reproduction': 857,\n",
       " 'resented': 858,\n",
       " 'resolve': 859,\n",
       " 'resources': 860,\n",
       " 'rest': 861,\n",
       " 'rich': 862,\n",
       " 'ridiculous': 863,\n",
       " 'robbed': 864,\n",
       " 'romantic!': 865,\n",
       " 'room': 866,\n",
       " 'rose': 867,\n",
       " 'rule': 868,\n",
       " 'run': 869,\n",
       " 's': 870,\n",
       " 'said': 871,\n",
       " 'same': 872,\n",
       " 'satisfaction': 873,\n",
       " 'savour': 874,\n",
       " 'saw': 875,\n",
       " 'say': 876,\n",
       " 'saying': 877,\n",
       " 'says': 878,\n",
       " 'scorn': 879,\n",
       " 'scornful': 880,\n",
       " 'secret': 881,\n",
       " 'see': 882,\n",
       " 'seemed': 883,\n",
       " 'seen': 884,\n",
       " 'self-confident': 885,\n",
       " 'send': 886,\n",
       " 'sensation': 887,\n",
       " 'sensitive': 888,\n",
       " 'sent': 889,\n",
       " 'serious': 890,\n",
       " 'set': 891,\n",
       " 'sex': 892,\n",
       " 'shade': 893,\n",
       " 'shaking': 894,\n",
       " 'shall': 895,\n",
       " 'she': 896,\n",
       " 'shirked': 897,\n",
       " 'short': 898,\n",
       " 'should': 899,\n",
       " 'shoulder': 900,\n",
       " 'shoulders': 901,\n",
       " 'show': 902,\n",
       " 'showed': 903,\n",
       " 'showy': 904,\n",
       " 'showy!': 905,\n",
       " 'shrug': 906,\n",
       " 'shrugged': 907,\n",
       " 'sight': 908,\n",
       " 'sign': 909,\n",
       " 'silent': 910,\n",
       " 'silver': 911,\n",
       " 'similar': 912,\n",
       " 'simpleton': 913,\n",
       " 'simplifications': 914,\n",
       " 'simply': 915,\n",
       " 'since': 916,\n",
       " 'single': 917,\n",
       " 'sitter': 918,\n",
       " 'sitters': 919,\n",
       " 'sketch': 920,\n",
       " 'skill': 921,\n",
       " 'slight': 922,\n",
       " 'slightly': 923,\n",
       " 'slowly': 924,\n",
       " 'small': 925,\n",
       " 'smile': 926,\n",
       " 'smiling': 927,\n",
       " 'sneer': 928,\n",
       " 'so': 929,\n",
       " 'solace': 930,\n",
       " 'some': 931,\n",
       " 'somebody': 932,\n",
       " 'something': 933,\n",
       " 'spacious': 934,\n",
       " 'spaniel': 935,\n",
       " 'speaking-tubes': 936,\n",
       " 'speculations': 937,\n",
       " 'spite': 938,\n",
       " 'splash': 939,\n",
       " 'square': 940,\n",
       " 'stairs': 941,\n",
       " 'stammer': 942,\n",
       " 'stand': 943,\n",
       " 'standing': 944,\n",
       " 'started': 945,\n",
       " 'stay': 946,\n",
       " 'stay!': 947,\n",
       " 'still': 948,\n",
       " 'stocked': 949,\n",
       " 'stood': 950,\n",
       " 'stopped': 951,\n",
       " 'stopping': 952,\n",
       " 'straddling': 953,\n",
       " 'straight': 954,\n",
       " 'strain': 955,\n",
       " 'straining': 956,\n",
       " 'strange': 957,\n",
       " 'straw': 958,\n",
       " 'stream': 959,\n",
       " 'stroke': 960,\n",
       " 'strokes': 961,\n",
       " 'strolled': 962,\n",
       " 'strongest': 963,\n",
       " 'strongly': 964,\n",
       " 'struck': 965,\n",
       " 'studio': 966,\n",
       " 'stuff': 967,\n",
       " 'subject': 968,\n",
       " 'substantial': 969,\n",
       " 'suburban': 970,\n",
       " 'such': 971,\n",
       " 'suddenly': 972,\n",
       " 'suffered': 973,\n",
       " 'sugar': 974,\n",
       " 'suggested': 975,\n",
       " 'sunburn': 976,\n",
       " 'sunburnt': 977,\n",
       " 'sunlit': 978,\n",
       " 'superb': 979,\n",
       " 'sure': 980,\n",
       " 'surest': 981,\n",
       " 'surface': 982,\n",
       " 'surprise': 983,\n",
       " 'surprised': 984,\n",
       " 'surrounded': 985,\n",
       " 'suspected': 986,\n",
       " 'sweetly': 987,\n",
       " 'sweetness': 988,\n",
       " 'swelling': 989,\n",
       " 'swept': 990,\n",
       " 'swum': 991,\n",
       " 't': 992,\n",
       " 'table': 993,\n",
       " 'take': 994,\n",
       " 'taken': 995,\n",
       " 'talking': 996,\n",
       " 'tea': 997,\n",
       " 'tears': 998,\n",
       " 'technicalities': 999,\n",
       " ...}"
      ]
     },
     "execution_count": 23,
     "metadata": {},
     "output_type": "execute_result"
    }
   ],
   "source": [
    "vocab = {token:integer for integer, token in enumerate(all_words)}\n",
    "vocab"
   ]
  },
  {
   "cell_type": "code",
   "execution_count": 24,
   "id": "4c4d087b",
   "metadata": {},
   "outputs": [],
   "source": [
    "class SimpleTokenizerV1:\n",
    "    def __init__(self, vocab_size):\n",
    "        self.str_int = vocab\n",
    "        self.int_str = {i:s for s, i in vocab.items()}\n",
    "\n",
    "    def encode(self, text):\n",
    "        preprocessed = re.split(r'([,.:;?\"()\\']|--|\\s)', text)\n",
    "\n",
    "        preprocessed = [item.strip() for item in preprocessed if item.strip()]\n",
    "        ids = [self.str_int[s] for s in preprocessed]\n",
    "        return ids\n",
    "    \n",
    "    def decode(self, ids):\n",
    "        text = \" \".join([self.int_str[i] for i in ids])\n",
    "        # replace the spaces before the specified punctuations\n",
    "        text = re.sub(r'\\s+([,.?\"()\\'])', r'\\1', text)\n",
    "        return text"
   ]
  },
  {
   "cell_type": "code",
   "execution_count": 25,
   "id": "17499f19",
   "metadata": {},
   "outputs": [],
   "source": [
    "tokenizer = SimpleTokenizerV1(vocab)"
   ]
  },
  {
   "cell_type": "code",
   "execution_count": 27,
   "id": "416a790e",
   "metadata": {},
   "outputs": [
    {
     "name": "stdout",
     "output_type": "stream",
     "text": [
      "[56, 1, 870, 1010, 619, 549, 766, 4, 1153, 613, 4]\n"
     ]
    }
   ],
   "source": [
    "text = \"\"\" It's the last he painted, you know,\n",
    "\"\"\"\n",
    "\n",
    "ids = tokenizer.encode(text)\n",
    "print(ids)"
   ]
  },
  {
   "cell_type": "code",
   "execution_count": 28,
   "id": "5e59a810",
   "metadata": {},
   "outputs": [
    {
     "data": {
      "text/plain": [
       "\"It' s the last he painted, you know,\""
      ]
     },
     "execution_count": 28,
     "metadata": {},
     "output_type": "execute_result"
    }
   ],
   "source": [
    "tokenizer.decode(ids)"
   ]
  },
  {
   "cell_type": "markdown",
   "id": "7ab731b3",
   "metadata": {},
   "source": [
    "### Adding Special context tokens:"
   ]
  },
  {
   "cell_type": "code",
   "execution_count": 30,
   "id": "4d3c6a8a",
   "metadata": {},
   "outputs": [
    {
     "ename": "KeyError",
     "evalue": "'Hello'",
     "output_type": "error",
     "traceback": [
      "\u001b[31m---------------------------------------------------------------------------\u001b[39m",
      "\u001b[31mKeyError\u001b[39m                                  Traceback (most recent call last)",
      "\u001b[36mCell\u001b[39m\u001b[36m \u001b[39m\u001b[32mIn[30]\u001b[39m\u001b[32m, line 3\u001b[39m\n\u001b[32m      1\u001b[39m text = \u001b[33m\"\u001b[39m\u001b[33mHello, do ypu like tea. is this-- a test?\u001b[39m\u001b[33m\"\u001b[39m\n\u001b[32m----> \u001b[39m\u001b[32m3\u001b[39m \u001b[43mtokenizer\u001b[49m\u001b[43m.\u001b[49m\u001b[43mencode\u001b[49m\u001b[43m(\u001b[49m\u001b[43mtext\u001b[49m\u001b[43m)\u001b[49m\n",
      "\u001b[36mCell\u001b[39m\u001b[36m \u001b[39m\u001b[32mIn[24]\u001b[39m\u001b[32m, line 10\u001b[39m, in \u001b[36mSimpleTokenizerV1.encode\u001b[39m\u001b[34m(self, text)\u001b[39m\n\u001b[32m      7\u001b[39m preprocessed = re.split(\u001b[33mr\u001b[39m\u001b[33m'\u001b[39m\u001b[33m([,.:;?\u001b[39m\u001b[33m\"\u001b[39m\u001b[33m()\u001b[39m\u001b[38;5;130;01m\\'\u001b[39;00m\u001b[33m]|--|\u001b[39m\u001b[33m\\\u001b[39m\u001b[33ms)\u001b[39m\u001b[33m'\u001b[39m, text)\n\u001b[32m      9\u001b[39m preprocessed = [item.strip() \u001b[38;5;28;01mfor\u001b[39;00m item \u001b[38;5;129;01min\u001b[39;00m preprocessed \u001b[38;5;28;01mif\u001b[39;00m item.strip()]\n\u001b[32m---> \u001b[39m\u001b[32m10\u001b[39m ids = [\u001b[38;5;28;43mself\u001b[39;49m\u001b[43m.\u001b[49m\u001b[43mstr_int\u001b[49m\u001b[43m[\u001b[49m\u001b[43ms\u001b[49m\u001b[43m]\u001b[49m \u001b[38;5;28;01mfor\u001b[39;00m s \u001b[38;5;129;01min\u001b[39;00m preprocessed]\n\u001b[32m     11\u001b[39m \u001b[38;5;28;01mreturn\u001b[39;00m ids\n",
      "\u001b[31mKeyError\u001b[39m: 'Hello'"
     ]
    }
   ],
   "source": [
    "text = \"Hello, do ypu like tea. is this-- a test?\"\n",
    "\n",
    "tokenizer.encode(text)"
   ]
  },
  {
   "cell_type": "code",
   "execution_count": 32,
   "id": "7653b2cf",
   "metadata": {},
   "outputs": [],
   "source": [
    "all_tokens = sorted(list(set(preprocessed)))\n",
    "all_tokens.extend([\"<|endoftext|>\", \"<|junk|>\"])\n",
    "\n",
    "vocab ={token:integer for integer, token in enumerate(all_tokens)}"
   ]
  },
  {
   "cell_type": "code",
   "execution_count": 33,
   "id": "fed4ca9c",
   "metadata": {},
   "outputs": [
    {
     "data": {
      "text/plain": [
       "1159"
      ]
     },
     "execution_count": 33,
     "metadata": {},
     "output_type": "execute_result"
    }
   ],
   "source": [
    "len(vocab.items())"
   ]
  },
  {
   "cell_type": "code",
   "execution_count": 36,
   "id": "551aac6a",
   "metadata": {},
   "outputs": [
    {
     "name": "stdout",
     "output_type": "stream",
     "text": [
      "0 ('younger', 1154)\n",
      "1 ('your', 1155)\n",
      "2 ('yourself', 1156)\n",
      "3 ('<|endoftext|>', 1157)\n",
      "4 ('<|junk|>', 1158)\n"
     ]
    }
   ],
   "source": [
    "for i, item in enumerate(list(vocab.items())[-5:]):\n",
    "    print(i, item)"
   ]
  },
  {
   "cell_type": "code",
   "execution_count": 41,
   "id": "9b475637",
   "metadata": {},
   "outputs": [],
   "source": [
    "class SimpleTokenizerV2:\n",
    "    def __init__(self, vocab_size):\n",
    "        self.str_to_int = vocab\n",
    "        self.int_to_str = {i:s for s, i in vocab.items()}\n",
    "\n",
    "    def encode(self, text):\n",
    "        preprocessed = re.split(r'([,.:;?\"()\\']|--|\\s)', text)\n",
    "        preprocessed = [item.strip() for item in preprocessed if item.strip()]\n",
    "        preprocessed = [item if item in self.str_to_int else \"<|junk|>\" for item in preprocessed]\n",
    "        ids = [self.str_to_int[s] for s in preprocessed]\n",
    "        return ids\n",
    "    \n",
    "    def decode(self, ids):\n",
    "        text = \" \".join([self.int_to_str[i] for i in ids])\n",
    "        # replace the spaces before the specified punctuations\n",
    "        text = re.sub(r'\\s+([,.?\"()\\'])', r'\\1', text)\n",
    "        return text"
   ]
  },
  {
   "cell_type": "code",
   "execution_count": 42,
   "id": "bb921f19",
   "metadata": {},
   "outputs": [],
   "source": [
    "tokenizer = SimpleTokenizerV2(vocab)"
   ]
  },
  {
   "cell_type": "code",
   "execution_count": 43,
   "id": "59c1019e",
   "metadata": {},
   "outputs": [
    {
     "data": {
      "text/plain": [
       "[1158, 4, 373, 1158, 645, 997, 6, 602, 1021, 5, 134, 1158, 9]"
      ]
     },
     "execution_count": 43,
     "metadata": {},
     "output_type": "execute_result"
    }
   ],
   "source": [
    "tokenizer.encode(text)"
   ]
  },
  {
   "cell_type": "code",
   "execution_count": 44,
   "id": "35c4380e",
   "metadata": {},
   "outputs": [
    {
     "data": {
      "text/plain": [
       "'<|junk|>, do <|junk|> like tea. is this -- a <|junk|>?'"
      ]
     },
     "execution_count": 44,
     "metadata": {},
     "output_type": "execute_result"
    }
   ],
   "source": [
    "tokenizer.decode(tokenizer.encode(text))"
   ]
  },
  {
   "cell_type": "markdown",
   "id": "25c4d67f",
   "metadata": {},
   "source": [
    "## 3. Byte pair encoding:"
   ]
  },
  {
   "cell_type": "code",
   "execution_count": 45,
   "id": "eb6a967a",
   "metadata": {},
   "outputs": [],
   "source": [
    "import tiktoken"
   ]
  },
  {
   "cell_type": "code",
   "execution_count": 48,
   "id": "ad00a411",
   "metadata": {},
   "outputs": [],
   "source": [
    "tokenizer = tiktoken.get_encoding(\"gpt2\")"
   ]
  },
  {
   "cell_type": "code",
   "execution_count": 49,
   "id": "162b3607",
   "metadata": {},
   "outputs": [
    {
     "data": {
      "text/plain": [
       "[15496, 995]"
      ]
     },
     "execution_count": 49,
     "metadata": {},
     "output_type": "execute_result"
    }
   ],
   "source": [
    "tokenizer.encode(\"Hello world\")"
   ]
  },
  {
   "cell_type": "code",
   "execution_count": 50,
   "id": "4867edb3",
   "metadata": {},
   "outputs": [
    {
     "data": {
      "text/plain": [
       "'Hello world'"
      ]
     },
     "execution_count": 50,
     "metadata": {},
     "output_type": "execute_result"
    }
   ],
   "source": [
    "tokenizer.decode(tokenizer.encode(\"Hello world\"))"
   ]
  },
  {
   "cell_type": "code",
   "execution_count": 51,
   "id": "044c3480",
   "metadata": {},
   "outputs": [
    {
     "ename": "ValueError",
     "evalue": "Encountered text corresponding to disallowed special token '<|endoftext|>'.\nIf you want this text to be encoded as a special token, pass it to `allowed_special`, e.g. `allowed_special={'<|endoftext|>', ...}`.\nIf you want this text to be encoded as normal text, disable the check for this token by passing `disallowed_special=(enc.special_tokens_set - {'<|endoftext|>'})`.\nTo disable this check for all special tokens, pass `disallowed_special=()`.\n",
     "output_type": "error",
     "traceback": [
      "\u001b[31m---------------------------------------------------------------------------\u001b[39m",
      "\u001b[31mValueError\u001b[39m                                Traceback (most recent call last)",
      "\u001b[36mCell\u001b[39m\u001b[36m \u001b[39m\u001b[32mIn[51]\u001b[39m\u001b[32m, line 3\u001b[39m\n\u001b[32m      1\u001b[39m text = (\u001b[33m\"\u001b[39m\u001b[33mHello, do you like tea?, <|endoftext|>\u001b[39m\u001b[33m\"\u001b[39m)\n\u001b[32m----> \u001b[39m\u001b[32m3\u001b[39m \u001b[43mtokenizer\u001b[49m\u001b[43m.\u001b[49m\u001b[43mencode\u001b[49m\u001b[43m(\u001b[49m\u001b[43mtext\u001b[49m\u001b[43m \u001b[49m\u001b[43m=\u001b[49m\u001b[43m \u001b[49m\u001b[43mtext\u001b[49m\u001b[43m)\u001b[49m\n",
      "\u001b[36mFile \u001b[39m\u001b[32m~/Desktop/LLM-Projects/.venv/lib/python3.12/site-packages/tiktoken/core.py:121\u001b[39m, in \u001b[36mEncoding.encode\u001b[39m\u001b[34m(self, text, allowed_special, disallowed_special)\u001b[39m\n\u001b[32m    119\u001b[39m         disallowed_special = \u001b[38;5;28mfrozenset\u001b[39m(disallowed_special)\n\u001b[32m    120\u001b[39m     \u001b[38;5;28;01mif\u001b[39;00m match := _special_token_regex(disallowed_special).search(text):\n\u001b[32m--> \u001b[39m\u001b[32m121\u001b[39m         \u001b[43mraise_disallowed_special_token\u001b[49m\u001b[43m(\u001b[49m\u001b[43mmatch\u001b[49m\u001b[43m.\u001b[49m\u001b[43mgroup\u001b[49m\u001b[43m(\u001b[49m\u001b[43m)\u001b[49m\u001b[43m)\u001b[49m\n\u001b[32m    123\u001b[39m \u001b[38;5;28;01mtry\u001b[39;00m:\n\u001b[32m    124\u001b[39m     \u001b[38;5;28;01mreturn\u001b[39;00m \u001b[38;5;28mself\u001b[39m._core_bpe.encode(text, allowed_special)\n",
      "\u001b[36mFile \u001b[39m\u001b[32m~/Desktop/LLM-Projects/.venv/lib/python3.12/site-packages/tiktoken/core.py:432\u001b[39m, in \u001b[36mraise_disallowed_special_token\u001b[39m\u001b[34m(token)\u001b[39m\n\u001b[32m    431\u001b[39m \u001b[38;5;28;01mdef\u001b[39;00m\u001b[38;5;250m \u001b[39m\u001b[34mraise_disallowed_special_token\u001b[39m(token: \u001b[38;5;28mstr\u001b[39m) -> NoReturn:\n\u001b[32m--> \u001b[39m\u001b[32m432\u001b[39m     \u001b[38;5;28;01mraise\u001b[39;00m \u001b[38;5;167;01mValueError\u001b[39;00m(\n\u001b[32m    433\u001b[39m         \u001b[33mf\u001b[39m\u001b[33m\"\u001b[39m\u001b[33mEncountered text corresponding to disallowed special token \u001b[39m\u001b[38;5;132;01m{\u001b[39;00mtoken\u001b[38;5;132;01m!r}\u001b[39;00m\u001b[33m.\u001b[39m\u001b[38;5;130;01m\\n\u001b[39;00m\u001b[33m\"\u001b[39m\n\u001b[32m    434\u001b[39m         \u001b[33m\"\u001b[39m\u001b[33mIf you want this text to be encoded as a special token, \u001b[39m\u001b[33m\"\u001b[39m\n\u001b[32m    435\u001b[39m         \u001b[33mf\u001b[39m\u001b[33m\"\u001b[39m\u001b[33mpass it to `allowed_special`, e.g. `allowed_special=\u001b[39m\u001b[38;5;130;01m{{\u001b[39;00m\u001b[38;5;132;01m{\u001b[39;00mtoken\u001b[38;5;132;01m!r}\u001b[39;00m\u001b[33m, ...\u001b[39m\u001b[38;5;130;01m}}\u001b[39;00m\u001b[33m`.\u001b[39m\u001b[38;5;130;01m\\n\u001b[39;00m\u001b[33m\"\u001b[39m\n\u001b[32m    436\u001b[39m         \u001b[33mf\u001b[39m\u001b[33m\"\u001b[39m\u001b[33mIf you want this text to be encoded as normal text, disable the check for this token \u001b[39m\u001b[33m\"\u001b[39m\n\u001b[32m    437\u001b[39m         \u001b[33mf\u001b[39m\u001b[33m\"\u001b[39m\u001b[33mby passing `disallowed_special=(enc.special_tokens_set - \u001b[39m\u001b[38;5;130;01m{{\u001b[39;00m\u001b[38;5;132;01m{\u001b[39;00mtoken\u001b[38;5;132;01m!r}\u001b[39;00m\u001b[38;5;130;01m}}\u001b[39;00m\u001b[33m)`.\u001b[39m\u001b[38;5;130;01m\\n\u001b[39;00m\u001b[33m\"\u001b[39m\n\u001b[32m    438\u001b[39m         \u001b[33m\"\u001b[39m\u001b[33mTo disable this check for all special tokens, pass `disallowed_special=()`.\u001b[39m\u001b[38;5;130;01m\\n\u001b[39;00m\u001b[33m\"\u001b[39m\n\u001b[32m    439\u001b[39m     )\n",
      "\u001b[31mValueError\u001b[39m: Encountered text corresponding to disallowed special token '<|endoftext|>'.\nIf you want this text to be encoded as a special token, pass it to `allowed_special`, e.g. `allowed_special={'<|endoftext|>', ...}`.\nIf you want this text to be encoded as normal text, disable the check for this token by passing `disallowed_special=(enc.special_tokens_set - {'<|endoftext|>'})`.\nTo disable this check for all special tokens, pass `disallowed_special=()`.\n"
     ]
    }
   ],
   "source": [
    "text = (\"Hello, do you like tea?, <|endoftext|>\")\n",
    "\n",
    "tokenizer.encode(text = text)"
   ]
  },
  {
   "cell_type": "code",
   "execution_count": 53,
   "id": "055ec05a",
   "metadata": {},
   "outputs": [
    {
     "data": {
      "text/plain": [
       "[15496,\n",
       " 11,\n",
       " 466,\n",
       " 345,\n",
       " 588,\n",
       " 8887,\n",
       " 21747,\n",
       " 220,\n",
       " 50256,\n",
       " 11,\n",
       " 277,\n",
       " 71,\n",
       " 42421,\n",
       " 456,\n",
       " 11322,\n",
       " 70,\n",
       " 8135,\n",
       " 67]"
      ]
     },
     "execution_count": 53,
     "metadata": {},
     "output_type": "execute_result"
    }
   ],
   "source": [
    "text = (\"Hello, do you like tea?, <|endoftext|>, fhkjghakhgskd\")\n",
    "\n",
    "tokenizer.encode(text = text, allowed_special = {\"<|endoftext|>\"})"
   ]
  },
  {
   "cell_type": "markdown",
   "id": "33f73edc",
   "metadata": {},
   "source": [
    "## 4. Data Sampling with sliding window:"
   ]
  },
  {
   "cell_type": "code",
   "execution_count": 54,
   "id": "80b6df2d",
   "metadata": {},
   "outputs": [
    {
     "name": "stdout",
     "output_type": "stream",
     "text": [
      "5145\n"
     ]
    }
   ],
   "source": [
    "with open(\"the--verdict.txt\", \"r\", encoding = \"utf-8\") as f:\n",
    "    raw_text = f.read()\n",
    "\n",
    "enc_text = tokenizer.encode(raw_text)\n",
    "print(len(enc_text))"
   ]
  },
  {
   "cell_type": "code",
   "execution_count": 56,
   "id": "2e8d8cb5",
   "metadata": {},
   "outputs": [
    {
     "name": "stdout",
     "output_type": "stream",
     "text": [
      "x:[40, 367, 2885, 1464]\n",
      "y:[367, 2885, 1464, 1807]\n"
     ]
    }
   ],
   "source": [
    "enc_sample = enc_text[:50]\n",
    "context_size = 4\n",
    "\n",
    "x = enc_sample[:context_size]\n",
    "y = enc_sample[1:context_size+1]\n",
    "\n",
    "print(f\"x:{x}\")\n",
    "print(f\"y:{y}\")"
   ]
  },
  {
   "cell_type": "code",
   "execution_count": 57,
   "id": "9c43190b",
   "metadata": {},
   "outputs": [
    {
     "name": "stdout",
     "output_type": "stream",
     "text": [
      "[40] ------> 367\n",
      "[40, 367] ------> 2885\n",
      "[40, 367, 2885] ------> 1464\n",
      "[40, 367, 2885, 1464] ------> 1807\n"
     ]
    }
   ],
   "source": [
    "for i in range(1, context_size+1):\n",
    "    context = enc_sample[:i]\n",
    "    desired = enc_sample[i]\n",
    "\n",
    "    print(context,  \"------>\", desired)"
   ]
  },
  {
   "cell_type": "code",
   "execution_count": 59,
   "id": "d56104ae",
   "metadata": {},
   "outputs": [
    {
     "name": "stdout",
     "output_type": "stream",
     "text": [
      "I ------>  H\n",
      "I H ------> AD\n",
      "I HAD ------>  always\n",
      "I HAD always ------>  thought\n"
     ]
    }
   ],
   "source": [
    "for i in range(1, context_size+1):\n",
    "    context = enc_sample[:i]\n",
    "    desired = enc_sample[i]\n",
    "\n",
    "    print(tokenizer.decode(context),  \"------>\", tokenizer.decode([desired]))"
   ]
  },
  {
   "cell_type": "code",
   "execution_count": 60,
   "id": "2705f1b5",
   "metadata": {},
   "outputs": [],
   "source": [
    "import torch"
   ]
  },
  {
   "cell_type": "code",
   "execution_count": 61,
   "id": "98c59d16",
   "metadata": {},
   "outputs": [
    {
     "data": {
      "text/plain": [
       "'2.8.0'"
      ]
     },
     "execution_count": 61,
     "metadata": {},
     "output_type": "execute_result"
    }
   ],
   "source": [
    "torch.__version__"
   ]
  },
  {
   "cell_type": "code",
   "execution_count": 75,
   "id": "80fcd2d9",
   "metadata": {},
   "outputs": [],
   "source": [
    "from torch.utils.data import Dataset, DataLoader\n",
    "\n",
    "\n",
    "class GPTDatasetV1(Dataset):\n",
    "    def __init__(self, txt, tokenizer, max_length, stride):\n",
    "        self.input_ids = []\n",
    "        self.target_ids = []\n",
    "\n",
    "        # Tokenize the entire text\n",
    "\n",
    "        token_ids = tokenizer.encode(txt, allowed_special = {\"<|endoftext|>\"})\n",
    "\n",
    "        # Use a Sliding window to chunk the book into overlapping seuences of max_length\n",
    "        for i in range(0, len(token_ids) - max_length, stride):\n",
    "            input_chunk = token_ids[i:i + max_length]\n",
    "            target_chunk = token_ids[i+1:i+max_length+1]\n",
    "            self.input_ids.append(torch.tensor(input_chunk))\n",
    "            self.target_ids.append(torch.tensor(target_chunk))\n",
    "\n",
    "    def __len__(self):\n",
    "            return len(self.input_ids)\n",
    "        \n",
    "    def __getitem__(self, idx):\n",
    "            return self.input_ids[idx], self.target_ids[idx]\n"
   ]
  },
  {
   "cell_type": "code",
   "execution_count": 76,
   "id": "33dd6d00",
   "metadata": {},
   "outputs": [],
   "source": [
    "def create_dataloader_v1(txt, batch_size = 4, max_length = 256, stride = 128, shuffle = True, drop_last = True, num_workers = 0):\n",
    "\n",
    "    # Intialize the tokenizer:\n",
    "    tokenizer = tiktoken.get_encoding(\"gpt2\")\n",
    "\n",
    "    # Create dataset:\n",
    "    dataset = GPTDatasetV1(txt, tokenizer, max_length, stride)\n",
    "\n",
    "    # Create dataloaderL\n",
    "    dataloader = DataLoader(\n",
    "        dataset, \n",
    "        batch_size = batch_size, \n",
    "        shuffle = shuffle, \n",
    "        drop_last = drop_last, \n",
    "        num_workers = num_workers\n",
    "    )\n",
    "\n",
    "    return dataloader "
   ]
  },
  {
   "cell_type": "code",
   "execution_count": 77,
   "id": "e079ff03",
   "metadata": {},
   "outputs": [],
   "source": [
    "with open(\"the--verdict.txt\", \"r\", encoding = \"utf-8\") as f:\n",
    "    raw_text = f.read()"
   ]
  },
  {
   "cell_type": "code",
   "execution_count": 82,
   "id": "78f6bbd2",
   "metadata": {},
   "outputs": [
    {
     "name": "stdout",
     "output_type": "stream",
     "text": [
      "[tensor([[  40,  367, 2885, 1464]]), tensor([[ 367, 2885, 1464, 1807]])]\n"
     ]
    }
   ],
   "source": [
    "Dataloader = create_dataloader_v1(raw_text, batch_size = 1, max_length = 4, stride = 4, shuffle = False)\n",
    "\n",
    "data_iter = iter(Dataloader)\n",
    "first_batch = next(data_iter)\n",
    "print(first_batch)"
   ]
  },
  {
   "cell_type": "code",
   "execution_count": 83,
   "id": "d3c442dc",
   "metadata": {},
   "outputs": [
    {
     "name": "stdout",
     "output_type": "stream",
     "text": [
      "[tensor([[1807, 3619,  402,  271]]), tensor([[ 3619,   402,   271, 10899]])]\n"
     ]
    }
   ],
   "source": [
    "second_batch = next(data_iter)\n",
    "print(second_batch)"
   ]
  },
  {
   "cell_type": "code",
   "execution_count": 84,
   "id": "0fc3677a",
   "metadata": {},
   "outputs": [
    {
     "name": "stdout",
     "output_type": "stream",
     "text": [
      "Inputs:\n",
      " tensor([[   40,   367,  2885,  1464],\n",
      "        [ 1807,  3619,   402,   271],\n",
      "        [10899,  2138,   257,  7026],\n",
      "        [15632,   438,  2016,   257],\n",
      "        [  922,  5891,  1576,   438],\n",
      "        [  568,   340,   373,   645],\n",
      "        [ 1049,  5975,   284,   502],\n",
      "        [  284,  3285,   326,    11]])\n",
      "\n",
      "Targets:\n",
      " tensor([[  367,  2885,  1464,  1807],\n",
      "        [ 3619,   402,   271, 10899],\n",
      "        [ 2138,   257,  7026, 15632],\n",
      "        [  438,  2016,   257,   922],\n",
      "        [ 5891,  1576,   438,   568],\n",
      "        [  340,   373,   645,  1049],\n",
      "        [ 5975,   284,   502,   284],\n",
      "        [ 3285,   326,    11,   287]])\n"
     ]
    }
   ],
   "source": [
    "Dataloader = create_dataloader_v1(raw_text, batch_size = 8, max_length = 4, stride = 4, shuffle = False)\n",
    "\n",
    "data_iter = iter(Dataloader)\n",
    "inputs, targets = next(data_iter)\n",
    "print(\"Inputs:\\n\", inputs)\n",
    "print(\"\\nTargets:\\n\", targets)"
   ]
  },
  {
   "cell_type": "markdown",
   "id": "980b7e87",
   "metadata": {},
   "source": [
    "## 5. Creating token embeddings:"
   ]
  },
  {
   "cell_type": "code",
   "execution_count": 88,
   "id": "887d557a",
   "metadata": {},
   "outputs": [
    {
     "data": {
      "text/plain": [
       "['__class__',\n",
       " '__delattr__',\n",
       " '__dict__',\n",
       " '__dir__',\n",
       " '__doc__',\n",
       " '__eq__',\n",
       " '__format__',\n",
       " '__ge__',\n",
       " '__getattribute__',\n",
       " '__getstate__',\n",
       " '__gt__',\n",
       " '__hash__',\n",
       " '__init__',\n",
       " '__init_subclass__',\n",
       " '__le__',\n",
       " '__lt__',\n",
       " '__module__',\n",
       " '__ne__',\n",
       " '__new__',\n",
       " '__reduce__',\n",
       " '__reduce_ex__',\n",
       " '__repr__',\n",
       " '__setattr__',\n",
       " '__setstate__',\n",
       " '__sizeof__',\n",
       " '__str__',\n",
       " '__subclasshook__',\n",
       " '__weakref__',\n",
       " '_core_bpe',\n",
       " '_encode_bytes',\n",
       " '_encode_only_native_bpe',\n",
       " '_encode_single_piece',\n",
       " '_mergeable_ranks',\n",
       " '_pat_str',\n",
       " '_special_tokens',\n",
       " 'decode',\n",
       " 'decode_batch',\n",
       " 'decode_bytes',\n",
       " 'decode_bytes_batch',\n",
       " 'decode_single_token_bytes',\n",
       " 'decode_tokens_bytes',\n",
       " 'decode_with_offsets',\n",
       " 'encode',\n",
       " 'encode_batch',\n",
       " 'encode_ordinary',\n",
       " 'encode_ordinary_batch',\n",
       " 'encode_single_token',\n",
       " 'encode_to_numpy',\n",
       " 'encode_with_unstable',\n",
       " 'eot_token',\n",
       " 'is_special_token',\n",
       " 'max_token_value',\n",
       " 'n_vocab',\n",
       " 'name',\n",
       " 'special_tokens_set',\n",
       " 'token_byte_values']"
      ]
     },
     "execution_count": 88,
     "metadata": {},
     "output_type": "execute_result"
    }
   ],
   "source": [
    "dir(tokenizer)"
   ]
  },
  {
   "cell_type": "code",
   "execution_count": 89,
   "id": "54e26601",
   "metadata": {},
   "outputs": [
    {
     "data": {
      "text/plain": [
       "50257"
      ]
     },
     "execution_count": 89,
     "metadata": {},
     "output_type": "execute_result"
    }
   ],
   "source": [
    "tokenizer.n_vocab"
   ]
  },
  {
   "cell_type": "code",
   "execution_count": 85,
   "id": "d3292aa0",
   "metadata": {},
   "outputs": [],
   "source": [
    "input_ids = torch.tensor([2, 3, 5, 1])"
   ]
  },
  {
   "cell_type": "code",
   "execution_count": 90,
   "id": "2ad71d41",
   "metadata": {},
   "outputs": [],
   "source": [
    "vocab_size = 6\n",
    "output_dim = 3\n",
    "\n",
    "torch.manual_seed(123)\n",
    "embedding_layer = torch.nn.Embedding(vocab_size, output_dim)"
   ]
  },
  {
   "cell_type": "code",
   "execution_count": 92,
   "id": "a85bc5a7",
   "metadata": {},
   "outputs": [
    {
     "name": "stdout",
     "output_type": "stream",
     "text": [
      "Parameter containing:\n",
      "tensor([[ 0.3374, -0.1778, -0.1690],\n",
      "        [ 0.9178,  1.5810,  1.3010],\n",
      "        [ 1.2753, -0.2010, -0.1606],\n",
      "        [-0.4015,  0.9666, -1.1481],\n",
      "        [-1.1589,  0.3255, -0.6315],\n",
      "        [-2.8400, -0.7849, -1.4096]], requires_grad=True)\n"
     ]
    }
   ],
   "source": [
    "print(embedding_layer.weight)"
   ]
  },
  {
   "cell_type": "code",
   "execution_count": 93,
   "id": "f03e4c73",
   "metadata": {},
   "outputs": [
    {
     "data": {
      "text/plain": [
       "tensor([[-0.4015,  0.9666, -1.1481]], grad_fn=<EmbeddingBackward0>)"
      ]
     },
     "execution_count": 93,
     "metadata": {},
     "output_type": "execute_result"
    }
   ],
   "source": [
    "embedding_layer(torch.tensor([3]))"
   ]
  },
  {
   "cell_type": "code",
   "execution_count": 94,
   "id": "a0e5039c",
   "metadata": {},
   "outputs": [
    {
     "data": {
      "text/plain": [
       "tensor([[ 1.2753, -0.2010, -0.1606],\n",
       "        [-0.4015,  0.9666, -1.1481],\n",
       "        [-2.8400, -0.7849, -1.4096],\n",
       "        [ 0.9178,  1.5810,  1.3010]], grad_fn=<EmbeddingBackward0>)"
      ]
     },
     "execution_count": 94,
     "metadata": {},
     "output_type": "execute_result"
    }
   ],
   "source": [
    "embedding_layer(input_ids)"
   ]
  },
  {
   "cell_type": "code",
   "execution_count": 95,
   "id": "4b8a607f",
   "metadata": {},
   "outputs": [
    {
     "data": {
      "text/plain": [
       "tensor([2, 3, 5, 1])"
      ]
     },
     "execution_count": 95,
     "metadata": {},
     "output_type": "execute_result"
    }
   ],
   "source": [
    "input_ids"
   ]
  },
  {
   "cell_type": "markdown",
   "id": "651412a4",
   "metadata": {},
   "source": [
    "## Encoding word positions:"
   ]
  },
  {
   "cell_type": "code",
   "execution_count": 97,
   "id": "eeac410e",
   "metadata": {},
   "outputs": [],
   "source": [
    "vocab_size = 50257\n",
    "output_dim = 256\n",
    "\n",
    "token_embedding_layer = torch.nn.Embedding(vocab_size, output_dim)"
   ]
  },
  {
   "cell_type": "code",
   "execution_count": 98,
   "id": "0e61909d",
   "metadata": {},
   "outputs": [],
   "source": [
    "max_length = 4\n",
    "Dataloader = create_dataloader_v1(\n",
    "    raw_text, batch_size = 8, max_length = max_length, \n",
    "    stride = max_length, shuffle = False\n",
    ")\n",
    "\n",
    "data_iter = iter(Dataloader)\n",
    "inputs, targets = next(data_iter)"
   ]
  },
  {
   "cell_type": "code",
   "execution_count": 99,
   "id": "18fc97fe",
   "metadata": {},
   "outputs": [
    {
     "name": "stdout",
     "output_type": "stream",
     "text": [
      "Token IDs:\n",
      " tensor([[   40,   367,  2885,  1464],\n",
      "        [ 1807,  3619,   402,   271],\n",
      "        [10899,  2138,   257,  7026],\n",
      "        [15632,   438,  2016,   257],\n",
      "        [  922,  5891,  1576,   438],\n",
      "        [  568,   340,   373,   645],\n",
      "        [ 1049,  5975,   284,   502],\n",
      "        [  284,  3285,   326,    11]])\n",
      "\n",
      "Inputs shape:\n",
      " torch.Size([8, 4])\n"
     ]
    }
   ],
   "source": [
    "print(\"Token IDs:\\n\", inputs)\n",
    "print(\"\\nInputs shape:\\n\", inputs.shape)"
   ]
  },
  {
   "cell_type": "code",
   "execution_count": 101,
   "id": "2b690db1",
   "metadata": {},
   "outputs": [
    {
     "data": {
      "text/plain": [
       "tensor([[[ 0.4913,  1.1239,  1.4588,  ..., -0.3995, -1.8735, -0.1445],\n",
       "         [ 0.4481,  0.2536, -0.2655,  ...,  0.4997, -1.1991, -1.1844],\n",
       "         [-0.2507, -0.0546,  0.6687,  ...,  0.9618,  2.3737, -0.0528],\n",
       "         [ 0.9457,  0.8657,  1.6191,  ..., -0.4544, -0.7460,  0.3483]],\n",
       "\n",
       "        [[ 1.5460,  1.7368, -0.7848,  ..., -0.1004,  0.8584, -0.3421],\n",
       "         [-1.8622, -0.1914, -0.3812,  ...,  1.1220, -0.3496,  0.6091],\n",
       "         [ 1.9847, -0.6483, -0.1415,  ..., -0.3841, -0.9355,  1.4478],\n",
       "         [ 0.9647,  1.2974, -1.6207,  ...,  1.1463,  1.5797,  0.3969]],\n",
       "\n",
       "        [[-0.7713,  0.6572,  0.1663,  ..., -0.8044,  0.0542,  0.7426],\n",
       "         [ 0.8046,  0.5047,  1.2922,  ...,  1.4648,  0.4097,  0.3205],\n",
       "         [ 0.0795, -1.7636,  0.5750,  ...,  2.1823,  1.8231, -0.3635],\n",
       "         [ 0.4267, -0.0647,  0.5686,  ..., -0.5209,  1.3065,  0.8473]],\n",
       "\n",
       "        ...,\n",
       "\n",
       "        [[-1.6156,  0.9610, -2.6437,  ..., -0.9645,  1.0888,  1.6383],\n",
       "         [-0.3985, -0.9235, -1.3163,  ..., -1.1582, -1.1314,  0.9747],\n",
       "         [ 0.6089,  0.5329,  0.1980,  ..., -0.6333, -1.1023,  1.6292],\n",
       "         [ 0.3677, -0.1701, -1.3787,  ...,  0.7048,  0.5028, -0.0573]],\n",
       "\n",
       "        [[-0.1279,  0.6154,  1.7173,  ...,  0.3789, -0.4752,  1.5258],\n",
       "         [ 0.4861, -1.7105,  0.4416,  ...,  0.1475, -1.8394,  1.8755],\n",
       "         [-0.9573,  0.7007,  1.3579,  ...,  1.9378, -1.9052, -1.1816],\n",
       "         [ 0.2002, -0.7605, -1.5170,  ..., -0.0305, -0.3656, -0.1398]],\n",
       "\n",
       "        [[-0.9573,  0.7007,  1.3579,  ...,  1.9378, -1.9052, -1.1816],\n",
       "         [-0.0632, -0.6548, -1.0296,  ..., -0.9538, -0.5026, -0.1128],\n",
       "         [ 0.6032,  0.8983,  2.0722,  ...,  1.5242,  0.2030, -0.3002],\n",
       "         [ 1.1274, -0.1082, -0.2195,  ...,  0.5059, -1.8138, -0.0700]]],\n",
       "       grad_fn=<EmbeddingBackward0>)"
      ]
     },
     "execution_count": 101,
     "metadata": {},
     "output_type": "execute_result"
    }
   ],
   "source": [
    "token_embeddings = token_embedding_layer(inputs)\n",
    "token_embeddings"
   ]
  },
  {
   "cell_type": "code",
   "execution_count": 104,
   "id": "8fcc6256",
   "metadata": {},
   "outputs": [
    {
     "data": {
      "text/plain": [
       "torch.Size([8, 4, 256])"
      ]
     },
     "execution_count": 104,
     "metadata": {},
     "output_type": "execute_result"
    }
   ],
   "source": [
    "token_embeddings.shape"
   ]
  },
  {
   "cell_type": "code",
   "execution_count": 103,
   "id": "9efefa77",
   "metadata": {},
   "outputs": [
    {
     "data": {
      "text/plain": [
       "tensor([[ 4.9130e-01,  1.1239e+00,  1.4588e+00, -3.6530e-01, -4.0372e-02,\n",
       "          1.9042e-01,  6.8024e-01, -8.6577e-01,  2.7644e-01,  6.3706e-01,\n",
       "         -1.5947e+00, -2.6210e-02, -1.4804e+00, -1.0301e+00, -1.2018e+00,\n",
       "          1.2016e+00,  1.8119e+00,  1.9705e+00,  1.6373e-01, -5.1866e-01,\n",
       "          5.2069e-01, -1.0986e+00,  4.8871e-01,  4.3105e-01,  1.2858e+00,\n",
       "         -1.9670e+00,  9.2041e-02,  4.5699e-01, -1.4753e+00, -4.4934e-01,\n",
       "         -8.3517e-01, -1.1789e+00, -6.0601e-01, -5.3533e-01, -2.9543e-01,\n",
       "          5.1638e-01,  4.2293e-01,  2.7946e-01, -2.4484e+00,  3.0050e-01,\n",
       "          3.5847e-01,  7.4261e-01,  2.1654e-01, -9.2025e-01,  2.2604e-01,\n",
       "         -8.0408e-01,  6.7722e-01,  8.9504e-01, -1.3292e+00, -1.6186e+00,\n",
       "         -1.6062e+00, -8.2329e-01,  1.1738e-01, -7.6778e-01,  9.9370e-01,\n",
       "          5.0167e-02,  7.0607e-02, -7.8336e-01,  4.4577e-01, -3.5213e-01,\n",
       "          7.3934e-01,  3.3461e-01, -5.5481e-01, -3.8830e-01,  9.9484e-01,\n",
       "          5.0054e-02, -1.5199e+00,  2.6316e-01, -1.6431e-01, -1.8176e-01,\n",
       "         -1.2671e+00, -3.9901e-01,  1.1806e+00, -1.2890e+00,  2.6386e-01,\n",
       "          5.0294e-01, -1.9135e-02, -8.5628e-01,  3.2852e+00,  4.7334e-01,\n",
       "          3.5021e-01,  1.5031e+00,  6.1182e-03,  1.0935e+00,  5.9817e-01,\n",
       "         -2.4226e-01,  4.3834e-01,  2.8703e-01, -6.3067e-02,  1.5893e+00,\n",
       "          9.4539e-01,  2.4572e+00, -1.8282e+00, -9.1278e-01,  4.2322e-01,\n",
       "          3.8999e-01,  2.8728e+00,  9.2387e-01, -1.0545e+00, -1.6685e-01,\n",
       "          4.9418e-02, -5.7389e-01,  2.1188e-01, -1.4189e-01,  2.5842e-01,\n",
       "         -1.1669e+00,  3.2978e-01,  2.0646e+00, -2.8099e-03,  1.1904e+00,\n",
       "         -9.8472e-01,  2.8700e+00,  2.8058e-01, -9.5489e-01,  2.0992e-02,\n",
       "          4.6095e-02,  5.6878e-01, -1.0328e+00, -1.5094e+00, -1.0096e+00,\n",
       "          3.9668e-01,  3.9019e-01,  3.0298e-01, -1.7095e-01,  6.5605e-01,\n",
       "          4.6227e-01,  1.3236e+00, -9.9633e-02, -7.5895e-01,  4.5632e-01,\n",
       "          1.1187e+00,  1.3849e+00, -7.4361e-01,  1.9304e+00,  5.3987e-01,\n",
       "         -3.5931e-01, -5.0138e-01,  2.0892e+00, -2.6761e-01,  2.3729e+00,\n",
       "         -3.5865e-01,  1.4453e-01, -1.5189e+00, -1.1551e+00, -3.2523e-01,\n",
       "          1.0416e+00,  5.7471e-02,  3.1885e-01, -6.3204e-01,  4.3194e-01,\n",
       "         -1.1108e+00,  8.8609e-01, -1.7648e+00,  9.9688e-02,  1.5095e+00,\n",
       "         -2.4515e-03,  6.1941e-02, -1.5005e+00, -1.6771e+00,  1.8315e+00,\n",
       "         -4.4011e-01,  5.5835e-01,  5.9907e-02,  9.9766e-01,  1.1716e+00,\n",
       "          5.5063e-02, -1.6676e-03, -1.5624e+00, -1.7296e+00,  5.7165e-01,\n",
       "          1.4861e+00, -9.5123e-01,  9.3879e-01,  2.1141e-01, -4.3493e-01,\n",
       "         -1.1834e-01, -1.3070e+00,  6.6544e-01,  9.6096e-01, -1.0029e+00,\n",
       "         -2.5464e-02, -8.2375e-01,  1.1840e+00, -1.4371e-02,  1.0247e-01,\n",
       "         -9.6544e-01,  2.5993e-01, -8.1029e-02, -1.0579e+00,  1.6819e-01,\n",
       "         -5.2815e-01,  4.5458e-01,  1.5662e-01, -6.7174e-01,  1.1728e-01,\n",
       "          2.6288e-01,  1.2155e+00,  2.2697e-01, -6.9495e-01, -1.1921e+00,\n",
       "         -2.2795e+00, -6.8390e-01, -8.1515e-01, -4.5456e-01,  1.5426e-01,\n",
       "         -5.1363e-01, -7.9109e-02,  4.7301e-01, -5.1337e-01, -2.9405e-01,\n",
       "         -3.2225e-01, -5.1180e-01, -1.8316e+00, -1.7413e-01, -2.5953e-01,\n",
       "         -1.2352e+00, -2.0569e+00, -1.3432e+00, -5.1492e-01,  5.3491e-01,\n",
       "         -8.0244e-01, -2.3238e+00,  7.7816e-02,  6.6902e-01, -6.2408e-01,\n",
       "         -7.9696e-02, -1.2051e+00, -1.0474e+00,  1.2773e+00,  5.2871e-02,\n",
       "          3.0100e-01,  5.9734e-02, -1.3454e-01,  3.7136e-01, -3.1442e-01,\n",
       "          6.0228e-01,  1.5533e+00,  6.7704e-01, -1.1035e+00, -5.6747e-01,\n",
       "          7.5113e-01,  5.1021e-01, -3.2169e-01, -2.0201e+00, -3.6327e-02,\n",
       "         -6.9542e-01, -3.4297e-01, -4.8025e-01,  3.7921e-01,  1.1108e+00,\n",
       "          1.8160e+00, -5.9255e-02, -1.1052e+00, -3.9954e-01, -1.8735e+00,\n",
       "         -1.4455e-01]], grad_fn=<IndexBackward0>)"
      ]
     },
     "execution_count": 103,
     "metadata": {},
     "output_type": "execute_result"
    }
   ],
   "source": [
    "token_embeddings[[0], [0]]"
   ]
  },
  {
   "cell_type": "code",
   "execution_count": 105,
   "id": "28ed9315",
   "metadata": {},
   "outputs": [],
   "source": [
    "context_length = max_length\n",
    "pos_embedding_layer = torch.nn.Embedding(context_length, output_dim)\n"
   ]
  },
  {
   "cell_type": "code",
   "execution_count": 106,
   "id": "4e0d5674",
   "metadata": {},
   "outputs": [
    {
     "data": {
      "text/plain": [
       "tensor([0, 1, 2, 3])"
      ]
     },
     "execution_count": 106,
     "metadata": {},
     "output_type": "execute_result"
    }
   ],
   "source": [
    "torch.arange(max_length)"
   ]
  },
  {
   "cell_type": "code",
   "execution_count": 107,
   "id": "c876f29a",
   "metadata": {},
   "outputs": [
    {
     "data": {
      "text/plain": [
       "Parameter containing:\n",
       "tensor([[ 1.7375, -0.5620, -0.6303,  ..., -0.2277,  1.5748,  1.0345],\n",
       "        [ 1.6423, -0.7201,  0.2062,  ...,  0.4118,  0.1498, -0.4628],\n",
       "        [-0.4651, -0.7757,  0.5806,  ...,  1.4335, -0.4963,  0.8579],\n",
       "        [-0.6754, -0.4628,  1.4323,  ...,  0.8139, -0.7088,  0.4827]],\n",
       "       requires_grad=True)"
      ]
     },
     "execution_count": 107,
     "metadata": {},
     "output_type": "execute_result"
    }
   ],
   "source": [
    "pos_embedding_layer.weight"
   ]
  },
  {
   "cell_type": "code",
   "execution_count": 108,
   "id": "3ef6f208",
   "metadata": {},
   "outputs": [
    {
     "name": "stdout",
     "output_type": "stream",
     "text": [
      "torch.Size([4, 256])\n"
     ]
    }
   ],
   "source": [
    "pos_embeddings = pos_embedding_layer(torch.arange(max_length))\n",
    "print(pos_embeddings.shape)"
   ]
  },
  {
   "cell_type": "code",
   "execution_count": 109,
   "id": "67ddb742",
   "metadata": {},
   "outputs": [
    {
     "data": {
      "text/plain": [
       "torch.Size([8, 4, 256])"
      ]
     },
     "execution_count": 109,
     "metadata": {},
     "output_type": "execute_result"
    }
   ],
   "source": [
    "token_embeddings.shape"
   ]
  },
  {
   "cell_type": "code",
   "execution_count": 110,
   "id": "b99ecbf5",
   "metadata": {},
   "outputs": [
    {
     "name": "stdout",
     "output_type": "stream",
     "text": [
      "torch.Size([8, 4, 256])\n"
     ]
    }
   ],
   "source": [
    "input_embeddings = token_embeddings + pos_embeddings\n",
    "print(input_embeddings.shape)"
   ]
  },
  {
   "cell_type": "code",
   "execution_count": null,
   "id": "e9f70904",
   "metadata": {},
   "outputs": [],
   "source": []
  }
 ],
 "metadata": {
  "kernelspec": {
   "display_name": "LLM-Projects",
   "language": "python",
   "name": "python3"
  },
  "language_info": {
   "codemirror_mode": {
    "name": "ipython",
    "version": 3
   },
   "file_extension": ".py",
   "mimetype": "text/x-python",
   "name": "python",
   "nbconvert_exporter": "python",
   "pygments_lexer": "ipython3",
   "version": "3.12.7"
  }
 },
 "nbformat": 4,
 "nbformat_minor": 5
}
